{
 "cells": [
  {
   "cell_type": "markdown",
   "metadata": {},
   "source": [
    "### Key Features in 'world-happiness-report':\n",
    "\n",
    "##### The happiness scores and rankings use data from the Gallup World Poll . The columns following the happiness score estimate the extent to which each of six factors – economic production, social support, life expectancy, freedom, absence of corruption, and generosity – contribute to making life evaluations higher in each country.\n",
    "\n",
    "- Ladder score: It is the score for happiness and liveability. The high ladder score represents the best possible life for you and low ladder score represents the worst possible life for you.\n",
    "- Logged GDP per capita: It shows how much economic production value can be attributed to each individual citizen. Alternatively, this translates to a measure of national wealth since GDP market value per person also readily serves as a prosperity measure.\n",
    "- Social support: It is defined in terms of social network characteristics such as assistance from family, friends, neighbours and other community members.\n",
    "- Healthy life expectancy at birth: Healthy life expectancy is the average life in good health - that is to say without irreversible limitation of activity in daily life or incapacities - of a fictitious generation subject to the conditions of mortality and morbidity prevailing that year\n",
    "- Freedom to make life choices: Freedom of choice describes an individual's opportunity and autonomy to perform an action selected from at least two available options, unconstrained by external parties.\n",
    "- Generosity: Generosity is the virtue of being liberal in giving, often as gifts.\n",
    "- Perceptions of corruption: Corruption is a form of dishonesty or criminal offense undertaken by a person or organization entrusted with a position of authority, to acquire illicit benefit\n",
    "\n",
    "### Objective : \n",
    "- Based on the World happiness report of 2021, clusters are being created depending upon the scores these countries got for various parameters. The purpose is to undestand which countries are most similar when seen in terms of these parameters."
   ]
  },
  {
   "cell_type": "code",
   "execution_count": 1,
   "metadata": {},
   "outputs": [],
   "source": [
    "import pandas as pd\n",
    "import numpy as np\n",
    "import seaborn as sns\n",
    "%matplotlib inline\n",
    "import matplotlib.pyplot as plt\n",
    "import plotly.express as pe\n",
    "import plotly"
   ]
  },
  {
   "cell_type": "code",
   "execution_count": 2,
   "metadata": {},
   "outputs": [],
   "source": [
    "df = pd.read_csv(\"world-happiness-report-2021.csv\")"
   ]
  },
  {
   "cell_type": "code",
   "execution_count": 3,
   "metadata": {},
   "outputs": [
    {
     "data": {
      "text/html": [
       "<div>\n",
       "<style scoped>\n",
       "    .dataframe tbody tr th:only-of-type {\n",
       "        vertical-align: middle;\n",
       "    }\n",
       "\n",
       "    .dataframe tbody tr th {\n",
       "        vertical-align: top;\n",
       "    }\n",
       "\n",
       "    .dataframe thead th {\n",
       "        text-align: right;\n",
       "    }\n",
       "</style>\n",
       "<table border=\"1\" class=\"dataframe\">\n",
       "  <thead>\n",
       "    <tr style=\"text-align: right;\">\n",
       "      <th></th>\n",
       "      <th>Country name</th>\n",
       "      <th>Regional indicator</th>\n",
       "      <th>Ladder score</th>\n",
       "      <th>Standard error of ladder score</th>\n",
       "      <th>upperwhisker</th>\n",
       "      <th>lowerwhisker</th>\n",
       "      <th>Logged GDP per capita</th>\n",
       "      <th>Social support</th>\n",
       "      <th>Healthy life expectancy</th>\n",
       "      <th>Freedom to make life choices</th>\n",
       "      <th>Generosity</th>\n",
       "      <th>Perceptions of corruption</th>\n",
       "      <th>Ladder score in Dystopia</th>\n",
       "      <th>Explained by: Log GDP per capita</th>\n",
       "      <th>Explained by: Social support</th>\n",
       "      <th>Explained by: Healthy life expectancy</th>\n",
       "      <th>Explained by: Freedom to make life choices</th>\n",
       "      <th>Explained by: Generosity</th>\n",
       "      <th>Explained by: Perceptions of corruption</th>\n",
       "      <th>Dystopia + residual</th>\n",
       "    </tr>\n",
       "  </thead>\n",
       "  <tbody>\n",
       "    <tr>\n",
       "      <th>0</th>\n",
       "      <td>Finland</td>\n",
       "      <td>Western Europe</td>\n",
       "      <td>7.842</td>\n",
       "      <td>0.032</td>\n",
       "      <td>7.904</td>\n",
       "      <td>7.780</td>\n",
       "      <td>10.775</td>\n",
       "      <td>0.954</td>\n",
       "      <td>72.0</td>\n",
       "      <td>0.949</td>\n",
       "      <td>-0.098</td>\n",
       "      <td>0.186</td>\n",
       "      <td>2.43</td>\n",
       "      <td>1.446</td>\n",
       "      <td>1.106</td>\n",
       "      <td>0.741</td>\n",
       "      <td>0.691</td>\n",
       "      <td>0.124</td>\n",
       "      <td>0.481</td>\n",
       "      <td>3.253</td>\n",
       "    </tr>\n",
       "    <tr>\n",
       "      <th>1</th>\n",
       "      <td>Denmark</td>\n",
       "      <td>Western Europe</td>\n",
       "      <td>7.620</td>\n",
       "      <td>0.035</td>\n",
       "      <td>7.687</td>\n",
       "      <td>7.552</td>\n",
       "      <td>10.933</td>\n",
       "      <td>0.954</td>\n",
       "      <td>72.7</td>\n",
       "      <td>0.946</td>\n",
       "      <td>0.030</td>\n",
       "      <td>0.179</td>\n",
       "      <td>2.43</td>\n",
       "      <td>1.502</td>\n",
       "      <td>1.108</td>\n",
       "      <td>0.763</td>\n",
       "      <td>0.686</td>\n",
       "      <td>0.208</td>\n",
       "      <td>0.485</td>\n",
       "      <td>2.868</td>\n",
       "    </tr>\n",
       "  </tbody>\n",
       "</table>\n",
       "</div>"
      ],
      "text/plain": [
       "  Country name Regional indicator  Ladder score  \\\n",
       "0      Finland     Western Europe         7.842   \n",
       "1      Denmark     Western Europe         7.620   \n",
       "\n",
       "   Standard error of ladder score  upperwhisker  lowerwhisker  \\\n",
       "0                           0.032         7.904         7.780   \n",
       "1                           0.035         7.687         7.552   \n",
       "\n",
       "   Logged GDP per capita  Social support  Healthy life expectancy  \\\n",
       "0                 10.775           0.954                     72.0   \n",
       "1                 10.933           0.954                     72.7   \n",
       "\n",
       "   Freedom to make life choices  Generosity  Perceptions of corruption  \\\n",
       "0                         0.949      -0.098                      0.186   \n",
       "1                         0.946       0.030                      0.179   \n",
       "\n",
       "   Ladder score in Dystopia  Explained by: Log GDP per capita  \\\n",
       "0                      2.43                             1.446   \n",
       "1                      2.43                             1.502   \n",
       "\n",
       "   Explained by: Social support  Explained by: Healthy life expectancy  \\\n",
       "0                         1.106                                  0.741   \n",
       "1                         1.108                                  0.763   \n",
       "\n",
       "   Explained by: Freedom to make life choices  Explained by: Generosity  \\\n",
       "0                                       0.691                     0.124   \n",
       "1                                       0.686                     0.208   \n",
       "\n",
       "   Explained by: Perceptions of corruption  Dystopia + residual  \n",
       "0                                    0.481                3.253  \n",
       "1                                    0.485                2.868  "
      ]
     },
     "execution_count": 3,
     "metadata": {},
     "output_type": "execute_result"
    }
   ],
   "source": [
    "df.head(2)"
   ]
  },
  {
   "cell_type": "code",
   "execution_count": 4,
   "metadata": {},
   "outputs": [
    {
     "name": "stdout",
     "output_type": "stream",
     "text": [
      "<class 'pandas.core.frame.DataFrame'>\n",
      "RangeIndex: 149 entries, 0 to 148\n",
      "Data columns (total 20 columns):\n",
      " #   Column                                      Non-Null Count  Dtype  \n",
      "---  ------                                      --------------  -----  \n",
      " 0   Country name                                149 non-null    object \n",
      " 1   Regional indicator                          149 non-null    object \n",
      " 2   Ladder score                                149 non-null    float64\n",
      " 3   Standard error of ladder score              149 non-null    float64\n",
      " 4   upperwhisker                                149 non-null    float64\n",
      " 5   lowerwhisker                                149 non-null    float64\n",
      " 6   Logged GDP per capita                       149 non-null    float64\n",
      " 7   Social support                              149 non-null    float64\n",
      " 8   Healthy life expectancy                     149 non-null    float64\n",
      " 9   Freedom to make life choices                149 non-null    float64\n",
      " 10  Generosity                                  149 non-null    float64\n",
      " 11  Perceptions of corruption                   149 non-null    float64\n",
      " 12  Ladder score in Dystopia                    149 non-null    float64\n",
      " 13  Explained by: Log GDP per capita            149 non-null    float64\n",
      " 14  Explained by: Social support                149 non-null    float64\n",
      " 15  Explained by: Healthy life expectancy       149 non-null    float64\n",
      " 16  Explained by: Freedom to make life choices  149 non-null    float64\n",
      " 17  Explained by: Generosity                    149 non-null    float64\n",
      " 18  Explained by: Perceptions of corruption     149 non-null    float64\n",
      " 19  Dystopia + residual                         149 non-null    float64\n",
      "dtypes: float64(18), object(2)\n",
      "memory usage: 23.4+ KB\n"
     ]
    }
   ],
   "source": [
    "df.info()"
   ]
  },
  {
   "cell_type": "code",
   "execution_count": 5,
   "metadata": {},
   "outputs": [],
   "source": [
    "df_1 = df.iloc[:, [0,1,2,3,6,7,8,9,10,11]]   # Removing columns if dystopia country (hypothetical country)"
   ]
  },
  {
   "cell_type": "code",
   "execution_count": 6,
   "metadata": {},
   "outputs": [
    {
     "data": {
      "text/html": [
       "<div>\n",
       "<style scoped>\n",
       "    .dataframe tbody tr th:only-of-type {\n",
       "        vertical-align: middle;\n",
       "    }\n",
       "\n",
       "    .dataframe tbody tr th {\n",
       "        vertical-align: top;\n",
       "    }\n",
       "\n",
       "    .dataframe thead th {\n",
       "        text-align: right;\n",
       "    }\n",
       "</style>\n",
       "<table border=\"1\" class=\"dataframe\">\n",
       "  <thead>\n",
       "    <tr style=\"text-align: right;\">\n",
       "      <th></th>\n",
       "      <th>Country name</th>\n",
       "      <th>Regional indicator</th>\n",
       "      <th>Ladder score</th>\n",
       "      <th>Standard error of ladder score</th>\n",
       "      <th>Logged GDP per capita</th>\n",
       "      <th>Social support</th>\n",
       "      <th>Healthy life expectancy</th>\n",
       "      <th>Freedom to make life choices</th>\n",
       "      <th>Generosity</th>\n",
       "      <th>Perceptions of corruption</th>\n",
       "    </tr>\n",
       "  </thead>\n",
       "  <tbody>\n",
       "    <tr>\n",
       "      <th>0</th>\n",
       "      <td>Finland</td>\n",
       "      <td>Western Europe</td>\n",
       "      <td>7.842</td>\n",
       "      <td>0.032</td>\n",
       "      <td>10.775</td>\n",
       "      <td>0.954</td>\n",
       "      <td>72.0</td>\n",
       "      <td>0.949</td>\n",
       "      <td>-0.098</td>\n",
       "      <td>0.186</td>\n",
       "    </tr>\n",
       "    <tr>\n",
       "      <th>1</th>\n",
       "      <td>Denmark</td>\n",
       "      <td>Western Europe</td>\n",
       "      <td>7.620</td>\n",
       "      <td>0.035</td>\n",
       "      <td>10.933</td>\n",
       "      <td>0.954</td>\n",
       "      <td>72.7</td>\n",
       "      <td>0.946</td>\n",
       "      <td>0.030</td>\n",
       "      <td>0.179</td>\n",
       "    </tr>\n",
       "  </tbody>\n",
       "</table>\n",
       "</div>"
      ],
      "text/plain": [
       "  Country name Regional indicator  Ladder score  \\\n",
       "0      Finland     Western Europe         7.842   \n",
       "1      Denmark     Western Europe         7.620   \n",
       "\n",
       "   Standard error of ladder score  Logged GDP per capita  Social support  \\\n",
       "0                           0.032                 10.775           0.954   \n",
       "1                           0.035                 10.933           0.954   \n",
       "\n",
       "   Healthy life expectancy  Freedom to make life choices  Generosity  \\\n",
       "0                     72.0                         0.949      -0.098   \n",
       "1                     72.7                         0.946       0.030   \n",
       "\n",
       "   Perceptions of corruption  \n",
       "0                      0.186  \n",
       "1                      0.179  "
      ]
     },
     "execution_count": 6,
     "metadata": {},
     "output_type": "execute_result"
    }
   ],
   "source": [
    "df_1.head(2)"
   ]
  },
  {
   "cell_type": "code",
   "execution_count": 7,
   "metadata": {},
   "outputs": [
    {
     "data": {
      "text/plain": [
       "(149, 10)"
      ]
     },
     "execution_count": 7,
     "metadata": {},
     "output_type": "execute_result"
    }
   ],
   "source": [
    "df_1.shape"
   ]
  },
  {
   "cell_type": "code",
   "execution_count": 8,
   "metadata": {},
   "outputs": [
    {
     "name": "stdout",
     "output_type": "stream",
     "text": [
      "<class 'pandas.core.frame.DataFrame'>\n",
      "RangeIndex: 149 entries, 0 to 148\n",
      "Data columns (total 10 columns):\n",
      " #   Column                          Non-Null Count  Dtype  \n",
      "---  ------                          --------------  -----  \n",
      " 0   Country name                    149 non-null    object \n",
      " 1   Regional indicator              149 non-null    object \n",
      " 2   Ladder score                    149 non-null    float64\n",
      " 3   Standard error of ladder score  149 non-null    float64\n",
      " 4   Logged GDP per capita           149 non-null    float64\n",
      " 5   Social support                  149 non-null    float64\n",
      " 6   Healthy life expectancy         149 non-null    float64\n",
      " 7   Freedom to make life choices    149 non-null    float64\n",
      " 8   Generosity                      149 non-null    float64\n",
      " 9   Perceptions of corruption       149 non-null    float64\n",
      "dtypes: float64(8), object(2)\n",
      "memory usage: 11.8+ KB\n"
     ]
    }
   ],
   "source": [
    "df_1.info()"
   ]
  },
  {
   "cell_type": "code",
   "execution_count": 9,
   "metadata": {},
   "outputs": [],
   "source": [
    "df_1.set_index(df_1[\"Country name\"], inplace= True)"
   ]
  },
  {
   "cell_type": "code",
   "execution_count": 10,
   "metadata": {},
   "outputs": [
    {
     "data": {
      "text/html": [
       "<div>\n",
       "<style scoped>\n",
       "    .dataframe tbody tr th:only-of-type {\n",
       "        vertical-align: middle;\n",
       "    }\n",
       "\n",
       "    .dataframe tbody tr th {\n",
       "        vertical-align: top;\n",
       "    }\n",
       "\n",
       "    .dataframe thead th {\n",
       "        text-align: right;\n",
       "    }\n",
       "</style>\n",
       "<table border=\"1\" class=\"dataframe\">\n",
       "  <thead>\n",
       "    <tr style=\"text-align: right;\">\n",
       "      <th></th>\n",
       "      <th>Country name</th>\n",
       "      <th>Regional indicator</th>\n",
       "      <th>Ladder score</th>\n",
       "      <th>Standard error of ladder score</th>\n",
       "      <th>Logged GDP per capita</th>\n",
       "      <th>Social support</th>\n",
       "      <th>Healthy life expectancy</th>\n",
       "      <th>Freedom to make life choices</th>\n",
       "      <th>Generosity</th>\n",
       "      <th>Perceptions of corruption</th>\n",
       "    </tr>\n",
       "    <tr>\n",
       "      <th>Country name</th>\n",
       "      <th></th>\n",
       "      <th></th>\n",
       "      <th></th>\n",
       "      <th></th>\n",
       "      <th></th>\n",
       "      <th></th>\n",
       "      <th></th>\n",
       "      <th></th>\n",
       "      <th></th>\n",
       "      <th></th>\n",
       "    </tr>\n",
       "  </thead>\n",
       "  <tbody>\n",
       "    <tr>\n",
       "      <th>Finland</th>\n",
       "      <td>Finland</td>\n",
       "      <td>Western Europe</td>\n",
       "      <td>7.842</td>\n",
       "      <td>0.032</td>\n",
       "      <td>10.775</td>\n",
       "      <td>0.954</td>\n",
       "      <td>72.0</td>\n",
       "      <td>0.949</td>\n",
       "      <td>-0.098</td>\n",
       "      <td>0.186</td>\n",
       "    </tr>\n",
       "    <tr>\n",
       "      <th>Denmark</th>\n",
       "      <td>Denmark</td>\n",
       "      <td>Western Europe</td>\n",
       "      <td>7.620</td>\n",
       "      <td>0.035</td>\n",
       "      <td>10.933</td>\n",
       "      <td>0.954</td>\n",
       "      <td>72.7</td>\n",
       "      <td>0.946</td>\n",
       "      <td>0.030</td>\n",
       "      <td>0.179</td>\n",
       "    </tr>\n",
       "  </tbody>\n",
       "</table>\n",
       "</div>"
      ],
      "text/plain": [
       "             Country name Regional indicator  Ladder score  \\\n",
       "Country name                                                 \n",
       "Finland           Finland     Western Europe         7.842   \n",
       "Denmark           Denmark     Western Europe         7.620   \n",
       "\n",
       "              Standard error of ladder score  Logged GDP per capita  \\\n",
       "Country name                                                          \n",
       "Finland                                0.032                 10.775   \n",
       "Denmark                                0.035                 10.933   \n",
       "\n",
       "              Social support  Healthy life expectancy  \\\n",
       "Country name                                            \n",
       "Finland                0.954                     72.0   \n",
       "Denmark                0.954                     72.7   \n",
       "\n",
       "              Freedom to make life choices  Generosity  \\\n",
       "Country name                                             \n",
       "Finland                              0.949      -0.098   \n",
       "Denmark                              0.946       0.030   \n",
       "\n",
       "              Perceptions of corruption  \n",
       "Country name                             \n",
       "Finland                           0.186  \n",
       "Denmark                           0.179  "
      ]
     },
     "execution_count": 10,
     "metadata": {},
     "output_type": "execute_result"
    }
   ],
   "source": [
    "df_1.head(2)"
   ]
  },
  {
   "cell_type": "code",
   "execution_count": 11,
   "metadata": {},
   "outputs": [
    {
     "name": "stderr",
     "output_type": "stream",
     "text": [
      "C:\\Users\\iamrr\\Anaconda3\\lib\\site-packages\\pandas\\core\\frame.py:3997: SettingWithCopyWarning: \n",
      "A value is trying to be set on a copy of a slice from a DataFrame\n",
      "\n",
      "See the caveats in the documentation: https://pandas.pydata.org/pandas-docs/stable/user_guide/indexing.html#returning-a-view-versus-a-copy\n",
      "  errors=errors,\n"
     ]
    }
   ],
   "source": [
    "df_1.drop(columns=\"Country name\", inplace= True)"
   ]
  },
  {
   "cell_type": "code",
   "execution_count": 12,
   "metadata": {},
   "outputs": [
    {
     "data": {
      "text/html": [
       "<div>\n",
       "<style scoped>\n",
       "    .dataframe tbody tr th:only-of-type {\n",
       "        vertical-align: middle;\n",
       "    }\n",
       "\n",
       "    .dataframe tbody tr th {\n",
       "        vertical-align: top;\n",
       "    }\n",
       "\n",
       "    .dataframe thead th {\n",
       "        text-align: right;\n",
       "    }\n",
       "</style>\n",
       "<table border=\"1\" class=\"dataframe\">\n",
       "  <thead>\n",
       "    <tr style=\"text-align: right;\">\n",
       "      <th></th>\n",
       "      <th>Regional indicator</th>\n",
       "      <th>Ladder score</th>\n",
       "      <th>Standard error of ladder score</th>\n",
       "      <th>Logged GDP per capita</th>\n",
       "      <th>Social support</th>\n",
       "      <th>Healthy life expectancy</th>\n",
       "      <th>Freedom to make life choices</th>\n",
       "      <th>Generosity</th>\n",
       "      <th>Perceptions of corruption</th>\n",
       "    </tr>\n",
       "    <tr>\n",
       "      <th>Country name</th>\n",
       "      <th></th>\n",
       "      <th></th>\n",
       "      <th></th>\n",
       "      <th></th>\n",
       "      <th></th>\n",
       "      <th></th>\n",
       "      <th></th>\n",
       "      <th></th>\n",
       "      <th></th>\n",
       "    </tr>\n",
       "  </thead>\n",
       "  <tbody>\n",
       "    <tr>\n",
       "      <th>Finland</th>\n",
       "      <td>Western Europe</td>\n",
       "      <td>7.842</td>\n",
       "      <td>0.032</td>\n",
       "      <td>10.775</td>\n",
       "      <td>0.954</td>\n",
       "      <td>72.0</td>\n",
       "      <td>0.949</td>\n",
       "      <td>-0.098</td>\n",
       "      <td>0.186</td>\n",
       "    </tr>\n",
       "    <tr>\n",
       "      <th>Denmark</th>\n",
       "      <td>Western Europe</td>\n",
       "      <td>7.620</td>\n",
       "      <td>0.035</td>\n",
       "      <td>10.933</td>\n",
       "      <td>0.954</td>\n",
       "      <td>72.7</td>\n",
       "      <td>0.946</td>\n",
       "      <td>0.030</td>\n",
       "      <td>0.179</td>\n",
       "    </tr>\n",
       "  </tbody>\n",
       "</table>\n",
       "</div>"
      ],
      "text/plain": [
       "             Regional indicator  Ladder score  Standard error of ladder score  \\\n",
       "Country name                                                                    \n",
       "Finland          Western Europe         7.842                           0.032   \n",
       "Denmark          Western Europe         7.620                           0.035   \n",
       "\n",
       "              Logged GDP per capita  Social support  Healthy life expectancy  \\\n",
       "Country name                                                                   \n",
       "Finland                      10.775           0.954                     72.0   \n",
       "Denmark                      10.933           0.954                     72.7   \n",
       "\n",
       "              Freedom to make life choices  Generosity  \\\n",
       "Country name                                             \n",
       "Finland                              0.949      -0.098   \n",
       "Denmark                              0.946       0.030   \n",
       "\n",
       "              Perceptions of corruption  \n",
       "Country name                             \n",
       "Finland                           0.186  \n",
       "Denmark                           0.179  "
      ]
     },
     "execution_count": 12,
     "metadata": {},
     "output_type": "execute_result"
    }
   ],
   "source": [
    "df_1.head(2)"
   ]
  },
  {
   "cell_type": "markdown",
   "metadata": {},
   "source": [
    "## Exploratory Data Analysis"
   ]
  },
  {
   "cell_type": "code",
   "execution_count": 13,
   "metadata": {},
   "outputs": [
    {
     "data": {
      "text/html": [
       "<div>\n",
       "<style scoped>\n",
       "    .dataframe tbody tr th:only-of-type {\n",
       "        vertical-align: middle;\n",
       "    }\n",
       "\n",
       "    .dataframe tbody tr th {\n",
       "        vertical-align: top;\n",
       "    }\n",
       "\n",
       "    .dataframe thead th {\n",
       "        text-align: right;\n",
       "    }\n",
       "</style>\n",
       "<table border=\"1\" class=\"dataframe\">\n",
       "  <thead>\n",
       "    <tr style=\"text-align: right;\">\n",
       "      <th></th>\n",
       "      <th>Ladder score</th>\n",
       "      <th>Standard error of ladder score</th>\n",
       "      <th>Logged GDP per capita</th>\n",
       "      <th>Social support</th>\n",
       "      <th>Healthy life expectancy</th>\n",
       "      <th>Freedom to make life choices</th>\n",
       "      <th>Generosity</th>\n",
       "      <th>Perceptions of corruption</th>\n",
       "    </tr>\n",
       "  </thead>\n",
       "  <tbody>\n",
       "    <tr>\n",
       "      <th>count</th>\n",
       "      <td>149.000000</td>\n",
       "      <td>149.000000</td>\n",
       "      <td>149.000000</td>\n",
       "      <td>149.000000</td>\n",
       "      <td>149.000000</td>\n",
       "      <td>149.000000</td>\n",
       "      <td>149.000000</td>\n",
       "      <td>149.000000</td>\n",
       "    </tr>\n",
       "    <tr>\n",
       "      <th>mean</th>\n",
       "      <td>5.532839</td>\n",
       "      <td>0.058752</td>\n",
       "      <td>9.432208</td>\n",
       "      <td>0.814745</td>\n",
       "      <td>64.992799</td>\n",
       "      <td>0.791597</td>\n",
       "      <td>-0.015134</td>\n",
       "      <td>0.727450</td>\n",
       "    </tr>\n",
       "    <tr>\n",
       "      <th>std</th>\n",
       "      <td>1.073924</td>\n",
       "      <td>0.022001</td>\n",
       "      <td>1.158601</td>\n",
       "      <td>0.114889</td>\n",
       "      <td>6.762043</td>\n",
       "      <td>0.113332</td>\n",
       "      <td>0.150657</td>\n",
       "      <td>0.179226</td>\n",
       "    </tr>\n",
       "    <tr>\n",
       "      <th>min</th>\n",
       "      <td>2.523000</td>\n",
       "      <td>0.026000</td>\n",
       "      <td>6.635000</td>\n",
       "      <td>0.463000</td>\n",
       "      <td>48.478000</td>\n",
       "      <td>0.382000</td>\n",
       "      <td>-0.288000</td>\n",
       "      <td>0.082000</td>\n",
       "    </tr>\n",
       "    <tr>\n",
       "      <th>25%</th>\n",
       "      <td>4.852000</td>\n",
       "      <td>0.043000</td>\n",
       "      <td>8.541000</td>\n",
       "      <td>0.750000</td>\n",
       "      <td>59.802000</td>\n",
       "      <td>0.718000</td>\n",
       "      <td>-0.126000</td>\n",
       "      <td>0.667000</td>\n",
       "    </tr>\n",
       "    <tr>\n",
       "      <th>50%</th>\n",
       "      <td>5.534000</td>\n",
       "      <td>0.054000</td>\n",
       "      <td>9.569000</td>\n",
       "      <td>0.832000</td>\n",
       "      <td>66.603000</td>\n",
       "      <td>0.804000</td>\n",
       "      <td>-0.036000</td>\n",
       "      <td>0.781000</td>\n",
       "    </tr>\n",
       "    <tr>\n",
       "      <th>75%</th>\n",
       "      <td>6.255000</td>\n",
       "      <td>0.070000</td>\n",
       "      <td>10.421000</td>\n",
       "      <td>0.905000</td>\n",
       "      <td>69.600000</td>\n",
       "      <td>0.877000</td>\n",
       "      <td>0.079000</td>\n",
       "      <td>0.845000</td>\n",
       "    </tr>\n",
       "    <tr>\n",
       "      <th>max</th>\n",
       "      <td>7.842000</td>\n",
       "      <td>0.173000</td>\n",
       "      <td>11.647000</td>\n",
       "      <td>0.983000</td>\n",
       "      <td>76.953000</td>\n",
       "      <td>0.970000</td>\n",
       "      <td>0.542000</td>\n",
       "      <td>0.939000</td>\n",
       "    </tr>\n",
       "  </tbody>\n",
       "</table>\n",
       "</div>"
      ],
      "text/plain": [
       "       Ladder score  Standard error of ladder score  Logged GDP per capita  \\\n",
       "count    149.000000                      149.000000             149.000000   \n",
       "mean       5.532839                        0.058752               9.432208   \n",
       "std        1.073924                        0.022001               1.158601   \n",
       "min        2.523000                        0.026000               6.635000   \n",
       "25%        4.852000                        0.043000               8.541000   \n",
       "50%        5.534000                        0.054000               9.569000   \n",
       "75%        6.255000                        0.070000              10.421000   \n",
       "max        7.842000                        0.173000              11.647000   \n",
       "\n",
       "       Social support  Healthy life expectancy  Freedom to make life choices  \\\n",
       "count      149.000000               149.000000                    149.000000   \n",
       "mean         0.814745                64.992799                      0.791597   \n",
       "std          0.114889                 6.762043                      0.113332   \n",
       "min          0.463000                48.478000                      0.382000   \n",
       "25%          0.750000                59.802000                      0.718000   \n",
       "50%          0.832000                66.603000                      0.804000   \n",
       "75%          0.905000                69.600000                      0.877000   \n",
       "max          0.983000                76.953000                      0.970000   \n",
       "\n",
       "       Generosity  Perceptions of corruption  \n",
       "count  149.000000                 149.000000  \n",
       "mean    -0.015134                   0.727450  \n",
       "std      0.150657                   0.179226  \n",
       "min     -0.288000                   0.082000  \n",
       "25%     -0.126000                   0.667000  \n",
       "50%     -0.036000                   0.781000  \n",
       "75%      0.079000                   0.845000  \n",
       "max      0.542000                   0.939000  "
      ]
     },
     "execution_count": 13,
     "metadata": {},
     "output_type": "execute_result"
    }
   ],
   "source": [
    "df_1.describe()"
   ]
  },
  {
   "cell_type": "code",
   "execution_count": 14,
   "metadata": {},
   "outputs": [
    {
     "data": {
      "text/plain": [
       "Sub-Saharan Africa                    36\n",
       "Western Europe                        21\n",
       "Latin America and Caribbean           20\n",
       "Central and Eastern Europe            17\n",
       "Middle East and North Africa          17\n",
       "Commonwealth of Independent States    12\n",
       "Southeast Asia                         9\n",
       "South Asia                             7\n",
       "East Asia                              6\n",
       "North America and ANZ                  4\n",
       "Name: Regional indicator, dtype: int64"
      ]
     },
     "execution_count": 14,
     "metadata": {},
     "output_type": "execute_result"
    }
   ],
   "source": [
    "df_1[\"Regional indicator\"].value_counts()"
   ]
  },
  {
   "cell_type": "code",
   "execution_count": 15,
   "metadata": {},
   "outputs": [],
   "source": [
    "reg = df_1[[\"Regional indicator\", \"Ladder score\"]].groupby(\"Regional indicator\", as_index=False).mean().sort_values(by=\"Ladder score\", ascending=False)"
   ]
  },
  {
   "cell_type": "code",
   "execution_count": 16,
   "metadata": {},
   "outputs": [
    {
     "data": {
      "image/png": "[encoded data removed]",
      "text/plain": [
       "<Figure size 792x288 with 1 Axes>"
      ]
     },
     "metadata": {
      "needs_background": "light"
     },
     "output_type": "display_data"
    }
   ],
   "source": [
    "# Average Ladder score VS Regional indicator\n",
    "plt.figure(figsize =(11,4))\n",
    "sns.barplot(x= \"Regional indicator\", y = \"Ladder score\" , data=reg)\n",
    "plt.title(\"Regional indicator VS Ladder score\");\n",
    "plt.xlabel(\"Regional indicator\")\n",
    "plt.ylabel(\"Average Ladder score\");\n",
    "plt.xticks(rotation=90);"
   ]
  },
  {
   "cell_type": "markdown",
   "metadata": {},
   "source": [
    "##### - South Asia and Sub-Saharan Africa have the lower mean ladder score of happiness while North America and ANZ region has the highest score."
   ]
  },
  {
   "cell_type": "code",
   "execution_count": 17,
   "metadata": {},
   "outputs": [],
   "source": [
    "df_1.reset_index(inplace=True)"
   ]
  },
  {
   "cell_type": "code",
   "execution_count": 18,
   "metadata": {},
   "outputs": [
    {
     "data": {
      "text/html": [
       "<div>\n",
       "<style scoped>\n",
       "    .dataframe tbody tr th:only-of-type {\n",
       "        vertical-align: middle;\n",
       "    }\n",
       "\n",
       "    .dataframe tbody tr th {\n",
       "        vertical-align: top;\n",
       "    }\n",
       "\n",
       "    .dataframe thead th {\n",
       "        text-align: right;\n",
       "    }\n",
       "</style>\n",
       "<table border=\"1\" class=\"dataframe\">\n",
       "  <thead>\n",
       "    <tr style=\"text-align: right;\">\n",
       "      <th></th>\n",
       "      <th>Country name</th>\n",
       "      <th>Regional indicator</th>\n",
       "      <th>Ladder score</th>\n",
       "      <th>Standard error of ladder score</th>\n",
       "      <th>Logged GDP per capita</th>\n",
       "      <th>Social support</th>\n",
       "      <th>Healthy life expectancy</th>\n",
       "      <th>Freedom to make life choices</th>\n",
       "      <th>Generosity</th>\n",
       "      <th>Perceptions of corruption</th>\n",
       "    </tr>\n",
       "  </thead>\n",
       "  <tbody>\n",
       "    <tr>\n",
       "      <th>0</th>\n",
       "      <td>Finland</td>\n",
       "      <td>Western Europe</td>\n",
       "      <td>7.842</td>\n",
       "      <td>0.032</td>\n",
       "      <td>10.775</td>\n",
       "      <td>0.954</td>\n",
       "      <td>72.0</td>\n",
       "      <td>0.949</td>\n",
       "      <td>-0.098</td>\n",
       "      <td>0.186</td>\n",
       "    </tr>\n",
       "    <tr>\n",
       "      <th>1</th>\n",
       "      <td>Denmark</td>\n",
       "      <td>Western Europe</td>\n",
       "      <td>7.620</td>\n",
       "      <td>0.035</td>\n",
       "      <td>10.933</td>\n",
       "      <td>0.954</td>\n",
       "      <td>72.7</td>\n",
       "      <td>0.946</td>\n",
       "      <td>0.030</td>\n",
       "      <td>0.179</td>\n",
       "    </tr>\n",
       "  </tbody>\n",
       "</table>\n",
       "</div>"
      ],
      "text/plain": [
       "  Country name Regional indicator  Ladder score  \\\n",
       "0      Finland     Western Europe         7.842   \n",
       "1      Denmark     Western Europe         7.620   \n",
       "\n",
       "   Standard error of ladder score  Logged GDP per capita  Social support  \\\n",
       "0                           0.032                 10.775           0.954   \n",
       "1                           0.035                 10.933           0.954   \n",
       "\n",
       "   Healthy life expectancy  Freedom to make life choices  Generosity  \\\n",
       "0                     72.0                         0.949      -0.098   \n",
       "1                     72.7                         0.946       0.030   \n",
       "\n",
       "   Perceptions of corruption  \n",
       "0                      0.186  \n",
       "1                      0.179  "
      ]
     },
     "execution_count": 18,
     "metadata": {},
     "output_type": "execute_result"
    }
   ],
   "source": [
    "df_1.head(2)"
   ]
  },
  {
   "cell_type": "code",
   "execution_count": 19,
   "metadata": {},
   "outputs": [
    {
     "data": {
      "image/png": "[encoded data removed]",
      "text/plain": [
       "<Figure size 1296x1440 with 7 Axes>"
      ]
     },
     "metadata": {
      "needs_background": "light"
     },
     "output_type": "display_data"
    }
   ],
   "source": [
    "fig, ax = plt.subplots(ncols=2, nrows=4, figsize=[18,20])\n",
    "sns.barplot(y=\"Country name\", x=\"Ladder score\", data= df_1.nlargest(10, columns=\"Ladder score\") , ax= ax[0,0], palette=\"YlOrBr\");\n",
    "sns.barplot(y=\"Country name\", x=\"Logged GDP per capita\", data= df_1.nlargest(10, columns=\"Logged GDP per capita\") , ax= ax[0,1], palette=\"YlOrBr\");\n",
    "sns.barplot(y=\"Country name\", x=\"Social support\", data= df_1.nlargest(10, columns=\"Social support\") , ax= ax[1,0], palette=\"Blues_d\");\n",
    "sns.barplot(y=\"Country name\", x=\"Healthy life expectancy\", data= df_1.nlargest(10, columns=\"Healthy life expectancy\") , ax= ax[1,1], palette=\"Blues_d\");\n",
    "sns.barplot(y=\"Country name\", x=\"Freedom to make life choices\", data= df_1.nlargest(10, columns=\"Freedom to make life choices\") , ax= ax[2,0], palette=\"YlGn\");\n",
    "sns.barplot(y=\"Country name\", x=\"Generosity\", data= df_1.nlargest(10, columns=\"Generosity\") , ax= ax[2,1], palette=\"YlGn\");\n",
    "sns.barplot(y=\"Country name\", x=\"Perceptions of corruption\", data= df_1.nlargest(10, columns=\"Perceptions of corruption\") , ax= ax[3,0], palette='OrRd');\n",
    "fig.delaxes(ax[3,1]);    # to delete the last unused graph axes\n",
    "plt.tight_layout();   # to handle the overlapping labels between adjacent graphs"
   ]
  },
  {
   "cell_type": "markdown",
   "metadata": {},
   "source": [
    "##### In above figure, bar charts are plotted for top 10 countries against Ladder score, Logged gdp per capita, Social support, Healthy life expectancy, Freedom to make life choices , Generosity and Perceptions of corruptions. Except Generosity, the other scores remain similar for top 10 countries. Generosity varies sharply even within top 10 countires.  "
   ]
  },
  {
   "cell_type": "code",
   "execution_count": 20,
   "metadata": {},
   "outputs": [
    {
     "data": {
      "text/html": [
       "<div>\n",
       "<style scoped>\n",
       "    .dataframe tbody tr th:only-of-type {\n",
       "        vertical-align: middle;\n",
       "    }\n",
       "\n",
       "    .dataframe tbody tr th {\n",
       "        vertical-align: top;\n",
       "    }\n",
       "\n",
       "    .dataframe thead th {\n",
       "        text-align: right;\n",
       "    }\n",
       "</style>\n",
       "<table border=\"1\" class=\"dataframe\">\n",
       "  <thead>\n",
       "    <tr style=\"text-align: right;\">\n",
       "      <th></th>\n",
       "      <th>Country name</th>\n",
       "      <th>Regional indicator</th>\n",
       "      <th>Ladder score</th>\n",
       "      <th>Standard error of ladder score</th>\n",
       "      <th>Logged GDP per capita</th>\n",
       "      <th>Social support</th>\n",
       "      <th>Healthy life expectancy</th>\n",
       "      <th>Freedom to make life choices</th>\n",
       "      <th>Generosity</th>\n",
       "      <th>Perceptions of corruption</th>\n",
       "    </tr>\n",
       "  </thead>\n",
       "  <tbody>\n",
       "    <tr>\n",
       "      <th>81</th>\n",
       "      <td>Indonesia</td>\n",
       "      <td>Southeast Asia</td>\n",
       "      <td>5.345</td>\n",
       "      <td>0.056</td>\n",
       "      <td>9.365</td>\n",
       "      <td>0.811</td>\n",
       "      <td>62.236</td>\n",
       "      <td>0.873</td>\n",
       "      <td>0.542</td>\n",
       "      <td>0.867</td>\n",
       "    </tr>\n",
       "    <tr>\n",
       "      <th>125</th>\n",
       "      <td>Myanmar</td>\n",
       "      <td>Southeast Asia</td>\n",
       "      <td>4.426</td>\n",
       "      <td>0.052</td>\n",
       "      <td>8.541</td>\n",
       "      <td>0.779</td>\n",
       "      <td>59.302</td>\n",
       "      <td>0.876</td>\n",
       "      <td>0.509</td>\n",
       "      <td>0.660</td>\n",
       "    </tr>\n",
       "    <tr>\n",
       "      <th>97</th>\n",
       "      <td>Gambia</td>\n",
       "      <td>Sub-Saharan Africa</td>\n",
       "      <td>5.051</td>\n",
       "      <td>0.089</td>\n",
       "      <td>7.686</td>\n",
       "      <td>0.690</td>\n",
       "      <td>55.160</td>\n",
       "      <td>0.697</td>\n",
       "      <td>0.424</td>\n",
       "      <td>0.746</td>\n",
       "    </tr>\n",
       "    <tr>\n",
       "      <th>142</th>\n",
       "      <td>Haiti</td>\n",
       "      <td>Latin America and Caribbean</td>\n",
       "      <td>3.615</td>\n",
       "      <td>0.173</td>\n",
       "      <td>7.477</td>\n",
       "      <td>0.540</td>\n",
       "      <td>55.700</td>\n",
       "      <td>0.593</td>\n",
       "      <td>0.422</td>\n",
       "      <td>0.721</td>\n",
       "    </tr>\n",
       "    <tr>\n",
       "      <th>41</th>\n",
       "      <td>Uzbekistan</td>\n",
       "      <td>Commonwealth of Independent States</td>\n",
       "      <td>6.179</td>\n",
       "      <td>0.068</td>\n",
       "      <td>8.836</td>\n",
       "      <td>0.918</td>\n",
       "      <td>65.255</td>\n",
       "      <td>0.970</td>\n",
       "      <td>0.311</td>\n",
       "      <td>0.515</td>\n",
       "    </tr>\n",
       "    <tr>\n",
       "      <th>53</th>\n",
       "      <td>Thailand</td>\n",
       "      <td>Southeast Asia</td>\n",
       "      <td>5.985</td>\n",
       "      <td>0.047</td>\n",
       "      <td>9.805</td>\n",
       "      <td>0.888</td>\n",
       "      <td>67.401</td>\n",
       "      <td>0.884</td>\n",
       "      <td>0.287</td>\n",
       "      <td>0.895</td>\n",
       "    </tr>\n",
       "    <tr>\n",
       "      <th>120</th>\n",
       "      <td>Kenya</td>\n",
       "      <td>Sub-Saharan Africa</td>\n",
       "      <td>4.607</td>\n",
       "      <td>0.072</td>\n",
       "      <td>8.361</td>\n",
       "      <td>0.688</td>\n",
       "      <td>60.704</td>\n",
       "      <td>0.779</td>\n",
       "      <td>0.287</td>\n",
       "      <td>0.825</td>\n",
       "    </tr>\n",
       "    <tr>\n",
       "      <th>96</th>\n",
       "      <td>Turkmenistan</td>\n",
       "      <td>Commonwealth of Independent States</td>\n",
       "      <td>5.066</td>\n",
       "      <td>0.036</td>\n",
       "      <td>9.629</td>\n",
       "      <td>0.983</td>\n",
       "      <td>62.409</td>\n",
       "      <td>0.877</td>\n",
       "      <td>0.273</td>\n",
       "      <td>0.888</td>\n",
       "    </tr>\n",
       "    <tr>\n",
       "      <th>32</th>\n",
       "      <td>Kosovo</td>\n",
       "      <td>Central and Eastern Europe</td>\n",
       "      <td>6.372</td>\n",
       "      <td>0.059</td>\n",
       "      <td>9.318</td>\n",
       "      <td>0.821</td>\n",
       "      <td>63.813</td>\n",
       "      <td>0.869</td>\n",
       "      <td>0.257</td>\n",
       "      <td>0.917</td>\n",
       "    </tr>\n",
       "    <tr>\n",
       "      <th>16</th>\n",
       "      <td>United Kingdom</td>\n",
       "      <td>Western Europe</td>\n",
       "      <td>7.064</td>\n",
       "      <td>0.038</td>\n",
       "      <td>10.707</td>\n",
       "      <td>0.934</td>\n",
       "      <td>72.500</td>\n",
       "      <td>0.859</td>\n",
       "      <td>0.233</td>\n",
       "      <td>0.459</td>\n",
       "    </tr>\n",
       "  </tbody>\n",
       "</table>\n",
       "</div>"
      ],
      "text/plain": [
       "       Country name                  Regional indicator  Ladder score  \\\n",
       "81        Indonesia                      Southeast Asia         5.345   \n",
       "125         Myanmar                      Southeast Asia         4.426   \n",
       "97           Gambia                  Sub-Saharan Africa         5.051   \n",
       "142           Haiti         Latin America and Caribbean         3.615   \n",
       "41       Uzbekistan  Commonwealth of Independent States         6.179   \n",
       "53         Thailand                      Southeast Asia         5.985   \n",
       "120           Kenya                  Sub-Saharan Africa         4.607   \n",
       "96     Turkmenistan  Commonwealth of Independent States         5.066   \n",
       "32           Kosovo          Central and Eastern Europe         6.372   \n",
       "16   United Kingdom                      Western Europe         7.064   \n",
       "\n",
       "     Standard error of ladder score  Logged GDP per capita  Social support  \\\n",
       "81                            0.056                  9.365           0.811   \n",
       "125                           0.052                  8.541           0.779   \n",
       "97                            0.089                  7.686           0.690   \n",
       "142                           0.173                  7.477           0.540   \n",
       "41                            0.068                  8.836           0.918   \n",
       "53                            0.047                  9.805           0.888   \n",
       "120                           0.072                  8.361           0.688   \n",
       "96                            0.036                  9.629           0.983   \n",
       "32                            0.059                  9.318           0.821   \n",
       "16                            0.038                 10.707           0.934   \n",
       "\n",
       "     Healthy life expectancy  Freedom to make life choices  Generosity  \\\n",
       "81                    62.236                         0.873       0.542   \n",
       "125                   59.302                         0.876       0.509   \n",
       "97                    55.160                         0.697       0.424   \n",
       "142                   55.700                         0.593       0.422   \n",
       "41                    65.255                         0.970       0.311   \n",
       "53                    67.401                         0.884       0.287   \n",
       "120                   60.704                         0.779       0.287   \n",
       "96                    62.409                         0.877       0.273   \n",
       "32                    63.813                         0.869       0.257   \n",
       "16                    72.500                         0.859       0.233   \n",
       "\n",
       "     Perceptions of corruption  \n",
       "81                       0.867  \n",
       "125                      0.660  \n",
       "97                       0.746  \n",
       "142                      0.721  \n",
       "41                       0.515  \n",
       "53                       0.895  \n",
       "120                      0.825  \n",
       "96                       0.888  \n",
       "32                       0.917  \n",
       "16                       0.459  "
      ]
     },
     "execution_count": 20,
     "metadata": {},
     "output_type": "execute_result"
    }
   ],
   "source": [
    "df_1.nlargest(10, \"Generosity\")"
   ]
  },
  {
   "cell_type": "markdown",
   "metadata": {},
   "source": [
    "- With the above data, we see that countries belonging to regions with lower ladder scores have higher generosity scores when seen among top 10 countries"
   ]
  },
  {
   "cell_type": "code",
   "execution_count": 21,
   "metadata": {},
   "outputs": [
    {
     "data": {
      "text/html": [
       "<div>\n",
       "<style scoped>\n",
       "    .dataframe tbody tr th:only-of-type {\n",
       "        vertical-align: middle;\n",
       "    }\n",
       "\n",
       "    .dataframe tbody tr th {\n",
       "        vertical-align: top;\n",
       "    }\n",
       "\n",
       "    .dataframe thead th {\n",
       "        text-align: right;\n",
       "    }\n",
       "</style>\n",
       "<table border=\"1\" class=\"dataframe\">\n",
       "  <thead>\n",
       "    <tr style=\"text-align: right;\">\n",
       "      <th></th>\n",
       "      <th>Ladder score</th>\n",
       "      <th>Logged GDP per capita</th>\n",
       "      <th>Social support</th>\n",
       "      <th>Healthy life expectancy</th>\n",
       "      <th>Freedom to make life choices</th>\n",
       "      <th>Generosity</th>\n",
       "      <th>Perceptions of corruption</th>\n",
       "    </tr>\n",
       "  </thead>\n",
       "  <tbody>\n",
       "    <tr>\n",
       "      <th>Ladder score</th>\n",
       "      <td>1.000000</td>\n",
       "      <td>0.789760</td>\n",
       "      <td>0.756888</td>\n",
       "      <td>0.768099</td>\n",
       "      <td>0.607753</td>\n",
       "      <td>-0.017799</td>\n",
       "      <td>-0.421140</td>\n",
       "    </tr>\n",
       "    <tr>\n",
       "      <th>Logged GDP per capita</th>\n",
       "      <td>0.789760</td>\n",
       "      <td>1.000000</td>\n",
       "      <td>0.785299</td>\n",
       "      <td>0.859461</td>\n",
       "      <td>0.432323</td>\n",
       "      <td>-0.199286</td>\n",
       "      <td>-0.342337</td>\n",
       "    </tr>\n",
       "    <tr>\n",
       "      <th>Social support</th>\n",
       "      <td>0.756888</td>\n",
       "      <td>0.785299</td>\n",
       "      <td>1.000000</td>\n",
       "      <td>0.723256</td>\n",
       "      <td>0.482930</td>\n",
       "      <td>-0.114946</td>\n",
       "      <td>-0.203207</td>\n",
       "    </tr>\n",
       "    <tr>\n",
       "      <th>Healthy life expectancy</th>\n",
       "      <td>0.768099</td>\n",
       "      <td>0.859461</td>\n",
       "      <td>0.723256</td>\n",
       "      <td>1.000000</td>\n",
       "      <td>0.461494</td>\n",
       "      <td>-0.161750</td>\n",
       "      <td>-0.364374</td>\n",
       "    </tr>\n",
       "    <tr>\n",
       "      <th>Freedom to make life choices</th>\n",
       "      <td>0.607753</td>\n",
       "      <td>0.432323</td>\n",
       "      <td>0.482930</td>\n",
       "      <td>0.461494</td>\n",
       "      <td>1.000000</td>\n",
       "      <td>0.169437</td>\n",
       "      <td>-0.401363</td>\n",
       "    </tr>\n",
       "    <tr>\n",
       "      <th>Generosity</th>\n",
       "      <td>-0.017799</td>\n",
       "      <td>-0.199286</td>\n",
       "      <td>-0.114946</td>\n",
       "      <td>-0.161750</td>\n",
       "      <td>0.169437</td>\n",
       "      <td>1.000000</td>\n",
       "      <td>-0.163962</td>\n",
       "    </tr>\n",
       "    <tr>\n",
       "      <th>Perceptions of corruption</th>\n",
       "      <td>-0.421140</td>\n",
       "      <td>-0.342337</td>\n",
       "      <td>-0.203207</td>\n",
       "      <td>-0.364374</td>\n",
       "      <td>-0.401363</td>\n",
       "      <td>-0.163962</td>\n",
       "      <td>1.000000</td>\n",
       "    </tr>\n",
       "  </tbody>\n",
       "</table>\n",
       "</div>"
      ],
      "text/plain": [
       "                              Ladder score  Logged GDP per capita  \\\n",
       "Ladder score                      1.000000               0.789760   \n",
       "Logged GDP per capita             0.789760               1.000000   \n",
       "Social support                    0.756888               0.785299   \n",
       "Healthy life expectancy           0.768099               0.859461   \n",
       "Freedom to make life choices      0.607753               0.432323   \n",
       "Generosity                       -0.017799              -0.199286   \n",
       "Perceptions of corruption        -0.421140              -0.342337   \n",
       "\n",
       "                              Social support  Healthy life expectancy  \\\n",
       "Ladder score                        0.756888                 0.768099   \n",
       "Logged GDP per capita               0.785299                 0.859461   \n",
       "Social support                      1.000000                 0.723256   \n",
       "Healthy life expectancy             0.723256                 1.000000   \n",
       "Freedom to make life choices        0.482930                 0.461494   \n",
       "Generosity                         -0.114946                -0.161750   \n",
       "Perceptions of corruption          -0.203207                -0.364374   \n",
       "\n",
       "                              Freedom to make life choices  Generosity  \\\n",
       "Ladder score                                      0.607753   -0.017799   \n",
       "Logged GDP per capita                             0.432323   -0.199286   \n",
       "Social support                                    0.482930   -0.114946   \n",
       "Healthy life expectancy                           0.461494   -0.161750   \n",
       "Freedom to make life choices                      1.000000    0.169437   \n",
       "Generosity                                        0.169437    1.000000   \n",
       "Perceptions of corruption                        -0.401363   -0.163962   \n",
       "\n",
       "                              Perceptions of corruption  \n",
       "Ladder score                                  -0.421140  \n",
       "Logged GDP per capita                         -0.342337  \n",
       "Social support                                -0.203207  \n",
       "Healthy life expectancy                       -0.364374  \n",
       "Freedom to make life choices                  -0.401363  \n",
       "Generosity                                    -0.163962  \n",
       "Perceptions of corruption                      1.000000  "
      ]
     },
     "execution_count": 21,
     "metadata": {},
     "output_type": "execute_result"
    }
   ],
   "source": [
    "df_1.iloc[:, [2,4,5,6,7,8,9]].corr()"
   ]
  },
  {
   "cell_type": "code",
   "execution_count": 22,
   "metadata": {},
   "outputs": [
    {
     "data": {
      "image/png": "[encoded data removed]",
      "text/plain": [
       "<Figure size 720x432 with 2 Axes>"
      ]
     },
     "metadata": {
      "needs_background": "light"
     },
     "output_type": "display_data"
    }
   ],
   "source": [
    "fig, ax = plt.subplots(figsize = [10,6])\n",
    "sns.heatmap(df_1.iloc[:, [2,4,5,6,7,8,9]].corr(), annot= True, cmap=\"YlGnBu\");  # annot = to show data on each cell, cmap = colormap"
   ]
  },
  {
   "cell_type": "markdown",
   "metadata": {},
   "source": [
    "- From the above heatmap, we see that Ladder score of happiness has high positive corelation with Logged GDP per capita, Social support and Healthy life expectancy.\n",
    "- Ladder score has moderate positive corelation with Freedom to make life choices\n",
    "- Ladder score has moderate negative corelation with Perceptions of corruption\n",
    "- Ladder score has strong negative corelation with Generosity"
   ]
  },
  {
   "cell_type": "markdown",
   "metadata": {},
   "source": [
    "#### Comparing India with country with max ladder score, median ladder score, and lowest ladder score to understand the difference"
   ]
  },
  {
   "cell_type": "code",
   "execution_count": 23,
   "metadata": {},
   "outputs": [],
   "source": [
    "highest = df_1[df_1[\"Ladder score\"] ==df_1[\"Ladder score\"].max()]\n",
    "lowest = df_1[df_1[\"Ladder score\"] ==df_1[\"Ladder score\"].min()]\n",
    "avg = df_1[df_1[\"Ladder score\"] ==df_1[\"Ladder score\"].median()]\n",
    "ind = df_1[df_1[\"Country name\"]==\"India\"]"
   ]
  },
  {
   "cell_type": "code",
   "execution_count": 24,
   "metadata": {},
   "outputs": [],
   "source": [
    "comp = pd.concat([highest, avg, ind, lowest])"
   ]
  },
  {
   "cell_type": "code",
   "execution_count": 25,
   "metadata": {},
   "outputs": [
    {
     "data": {
      "text/html": [
       "<div>\n",
       "<style scoped>\n",
       "    .dataframe tbody tr th:only-of-type {\n",
       "        vertical-align: middle;\n",
       "    }\n",
       "\n",
       "    .dataframe tbody tr th {\n",
       "        vertical-align: top;\n",
       "    }\n",
       "\n",
       "    .dataframe thead th {\n",
       "        text-align: right;\n",
       "    }\n",
       "</style>\n",
       "<table border=\"1\" class=\"dataframe\">\n",
       "  <thead>\n",
       "    <tr style=\"text-align: right;\">\n",
       "      <th></th>\n",
       "      <th>Country name</th>\n",
       "      <th>Regional indicator</th>\n",
       "      <th>Ladder score</th>\n",
       "      <th>Standard error of ladder score</th>\n",
       "      <th>Logged GDP per capita</th>\n",
       "      <th>Social support</th>\n",
       "      <th>Healthy life expectancy</th>\n",
       "      <th>Freedom to make life choices</th>\n",
       "      <th>Generosity</th>\n",
       "      <th>Perceptions of corruption</th>\n",
       "    </tr>\n",
       "  </thead>\n",
       "  <tbody>\n",
       "    <tr>\n",
       "      <th>0</th>\n",
       "      <td>Finland</td>\n",
       "      <td>Western Europe</td>\n",
       "      <td>7.842</td>\n",
       "      <td>0.032</td>\n",
       "      <td>10.775</td>\n",
       "      <td>0.954</td>\n",
       "      <td>72.000</td>\n",
       "      <td>0.949</td>\n",
       "      <td>-0.098</td>\n",
       "      <td>0.186</td>\n",
       "    </tr>\n",
       "    <tr>\n",
       "      <th>74</th>\n",
       "      <td>Belarus</td>\n",
       "      <td>Commonwealth of Independent States</td>\n",
       "      <td>5.534</td>\n",
       "      <td>0.047</td>\n",
       "      <td>9.853</td>\n",
       "      <td>0.910</td>\n",
       "      <td>66.253</td>\n",
       "      <td>0.650</td>\n",
       "      <td>-0.180</td>\n",
       "      <td>0.627</td>\n",
       "    </tr>\n",
       "    <tr>\n",
       "      <th>138</th>\n",
       "      <td>India</td>\n",
       "      <td>South Asia</td>\n",
       "      <td>3.819</td>\n",
       "      <td>0.026</td>\n",
       "      <td>8.755</td>\n",
       "      <td>0.603</td>\n",
       "      <td>60.633</td>\n",
       "      <td>0.893</td>\n",
       "      <td>0.089</td>\n",
       "      <td>0.774</td>\n",
       "    </tr>\n",
       "    <tr>\n",
       "      <th>148</th>\n",
       "      <td>Afghanistan</td>\n",
       "      <td>South Asia</td>\n",
       "      <td>2.523</td>\n",
       "      <td>0.038</td>\n",
       "      <td>7.695</td>\n",
       "      <td>0.463</td>\n",
       "      <td>52.493</td>\n",
       "      <td>0.382</td>\n",
       "      <td>-0.102</td>\n",
       "      <td>0.924</td>\n",
       "    </tr>\n",
       "  </tbody>\n",
       "</table>\n",
       "</div>"
      ],
      "text/plain": [
       "    Country name                  Regional indicator  Ladder score  \\\n",
       "0        Finland                      Western Europe         7.842   \n",
       "74       Belarus  Commonwealth of Independent States         5.534   \n",
       "138        India                          South Asia         3.819   \n",
       "148  Afghanistan                          South Asia         2.523   \n",
       "\n",
       "     Standard error of ladder score  Logged GDP per capita  Social support  \\\n",
       "0                             0.032                 10.775           0.954   \n",
       "74                            0.047                  9.853           0.910   \n",
       "138                           0.026                  8.755           0.603   \n",
       "148                           0.038                  7.695           0.463   \n",
       "\n",
       "     Healthy life expectancy  Freedom to make life choices  Generosity  \\\n",
       "0                     72.000                         0.949      -0.098   \n",
       "74                    66.253                         0.650      -0.180   \n",
       "138                   60.633                         0.893       0.089   \n",
       "148                   52.493                         0.382      -0.102   \n",
       "\n",
       "     Perceptions of corruption  \n",
       "0                        0.186  \n",
       "74                       0.627  \n",
       "138                      0.774  \n",
       "148                      0.924  "
      ]
     },
     "execution_count": 25,
     "metadata": {},
     "output_type": "execute_result"
    }
   ],
   "source": [
    "comp"
   ]
  },
  {
   "cell_type": "code",
   "execution_count": 26,
   "metadata": {},
   "outputs": [
    {
     "data": {
      "image/png": "[encoded data removed]",
      "text/plain": [
       "<Figure size 1296x720 with 6 Axes>"
      ]
     },
     "metadata": {
      "needs_background": "light"
     },
     "output_type": "display_data"
    }
   ],
   "source": [
    "fig, ax = plt.subplots(nrows =2, ncols=3, figsize=(18,10))\n",
    "sns.barplot(x = comp[\"Country name\"], y = comp[\"Ladder score\"], ax=ax[0,0])\n",
    "sns.barplot(x = comp[\"Country name\"], y = comp[\"Logged GDP per capita\"], ax=ax[0,1])\n",
    "sns.barplot(x = comp[\"Country name\"], y = comp[\"Social support\"], ax=ax[0,2])\n",
    "sns.barplot(x = comp[\"Country name\"], y = comp[\"Healthy life expectancy\"], ax=ax[1,0])\n",
    "sns.barplot(x = comp[\"Country name\"], y = comp[\"Freedom to make life choices\"], ax=ax[1,1])\n",
    "sns.barplot(x = comp[\"Country name\"], y = comp[\"Generosity\"], ax=ax[1,2]);"
   ]
  },
  {
   "cell_type": "markdown",
   "metadata": {},
   "source": [
    "**- India is the most generous country among the four.**"
   ]
  },
  {
   "cell_type": "markdown",
   "metadata": {},
   "source": [
    "## Preprocessing"
   ]
  },
  {
   "cell_type": "code",
   "execution_count": 27,
   "metadata": {},
   "outputs": [
    {
     "data": {
      "text/html": [
       "<div>\n",
       "<style scoped>\n",
       "    .dataframe tbody tr th:only-of-type {\n",
       "        vertical-align: middle;\n",
       "    }\n",
       "\n",
       "    .dataframe tbody tr th {\n",
       "        vertical-align: top;\n",
       "    }\n",
       "\n",
       "    .dataframe thead th {\n",
       "        text-align: right;\n",
       "    }\n",
       "</style>\n",
       "<table border=\"1\" class=\"dataframe\">\n",
       "  <thead>\n",
       "    <tr style=\"text-align: right;\">\n",
       "      <th></th>\n",
       "      <th>Country name</th>\n",
       "      <th>Regional indicator</th>\n",
       "      <th>Ladder score</th>\n",
       "      <th>Standard error of ladder score</th>\n",
       "      <th>Logged GDP per capita</th>\n",
       "      <th>Social support</th>\n",
       "      <th>Healthy life expectancy</th>\n",
       "      <th>Freedom to make life choices</th>\n",
       "      <th>Generosity</th>\n",
       "      <th>Perceptions of corruption</th>\n",
       "    </tr>\n",
       "  </thead>\n",
       "  <tbody>\n",
       "    <tr>\n",
       "      <th>0</th>\n",
       "      <td>Finland</td>\n",
       "      <td>Western Europe</td>\n",
       "      <td>7.842</td>\n",
       "      <td>0.032</td>\n",
       "      <td>10.775</td>\n",
       "      <td>0.954</td>\n",
       "      <td>72.0</td>\n",
       "      <td>0.949</td>\n",
       "      <td>-0.098</td>\n",
       "      <td>0.186</td>\n",
       "    </tr>\n",
       "    <tr>\n",
       "      <th>1</th>\n",
       "      <td>Denmark</td>\n",
       "      <td>Western Europe</td>\n",
       "      <td>7.620</td>\n",
       "      <td>0.035</td>\n",
       "      <td>10.933</td>\n",
       "      <td>0.954</td>\n",
       "      <td>72.7</td>\n",
       "      <td>0.946</td>\n",
       "      <td>0.030</td>\n",
       "      <td>0.179</td>\n",
       "    </tr>\n",
       "  </tbody>\n",
       "</table>\n",
       "</div>"
      ],
      "text/plain": [
       "  Country name Regional indicator  Ladder score  \\\n",
       "0      Finland     Western Europe         7.842   \n",
       "1      Denmark     Western Europe         7.620   \n",
       "\n",
       "   Standard error of ladder score  Logged GDP per capita  Social support  \\\n",
       "0                           0.032                 10.775           0.954   \n",
       "1                           0.035                 10.933           0.954   \n",
       "\n",
       "   Healthy life expectancy  Freedom to make life choices  Generosity  \\\n",
       "0                     72.0                         0.949      -0.098   \n",
       "1                     72.7                         0.946       0.030   \n",
       "\n",
       "   Perceptions of corruption  \n",
       "0                      0.186  \n",
       "1                      0.179  "
      ]
     },
     "execution_count": 27,
     "metadata": {},
     "output_type": "execute_result"
    }
   ],
   "source": [
    "df_1.head(2)"
   ]
  },
  {
   "cell_type": "code",
   "execution_count": 28,
   "metadata": {},
   "outputs": [],
   "source": [
    "df_data = df_1.drop([\"Regional indicator\", \"Standard error of ladder score\"], axis = 1)"
   ]
  },
  {
   "cell_type": "code",
   "execution_count": 29,
   "metadata": {},
   "outputs": [
    {
     "data": {
      "text/html": [
       "<div>\n",
       "<style scoped>\n",
       "    .dataframe tbody tr th:only-of-type {\n",
       "        vertical-align: middle;\n",
       "    }\n",
       "\n",
       "    .dataframe tbody tr th {\n",
       "        vertical-align: top;\n",
       "    }\n",
       "\n",
       "    .dataframe thead th {\n",
       "        text-align: right;\n",
       "    }\n",
       "</style>\n",
       "<table border=\"1\" class=\"dataframe\">\n",
       "  <thead>\n",
       "    <tr style=\"text-align: right;\">\n",
       "      <th></th>\n",
       "      <th>Ladder score</th>\n",
       "      <th>Logged GDP per capita</th>\n",
       "      <th>Social support</th>\n",
       "      <th>Healthy life expectancy</th>\n",
       "      <th>Freedom to make life choices</th>\n",
       "      <th>Generosity</th>\n",
       "      <th>Perceptions of corruption</th>\n",
       "    </tr>\n",
       "    <tr>\n",
       "      <th>Country name</th>\n",
       "      <th></th>\n",
       "      <th></th>\n",
       "      <th></th>\n",
       "      <th></th>\n",
       "      <th></th>\n",
       "      <th></th>\n",
       "      <th></th>\n",
       "    </tr>\n",
       "  </thead>\n",
       "  <tbody>\n",
       "    <tr>\n",
       "      <th>Finland</th>\n",
       "      <td>7.842</td>\n",
       "      <td>10.775</td>\n",
       "      <td>0.954</td>\n",
       "      <td>72.0</td>\n",
       "      <td>0.949</td>\n",
       "      <td>-0.098</td>\n",
       "      <td>0.186</td>\n",
       "    </tr>\n",
       "    <tr>\n",
       "      <th>Denmark</th>\n",
       "      <td>7.620</td>\n",
       "      <td>10.933</td>\n",
       "      <td>0.954</td>\n",
       "      <td>72.7</td>\n",
       "      <td>0.946</td>\n",
       "      <td>0.030</td>\n",
       "      <td>0.179</td>\n",
       "    </tr>\n",
       "  </tbody>\n",
       "</table>\n",
       "</div>"
      ],
      "text/plain": [
       "              Ladder score  Logged GDP per capita  Social support  \\\n",
       "Country name                                                        \n",
       "Finland              7.842                 10.775           0.954   \n",
       "Denmark              7.620                 10.933           0.954   \n",
       "\n",
       "              Healthy life expectancy  Freedom to make life choices  \\\n",
       "Country name                                                          \n",
       "Finland                          72.0                         0.949   \n",
       "Denmark                          72.7                         0.946   \n",
       "\n",
       "              Generosity  Perceptions of corruption  \n",
       "Country name                                         \n",
       "Finland           -0.098                      0.186  \n",
       "Denmark            0.030                      0.179  "
      ]
     },
     "execution_count": 29,
     "metadata": {},
     "output_type": "execute_result"
    }
   ],
   "source": [
    "df_data.set_index(\"Country name\", inplace= True)\n",
    "df_data.head(2)"
   ]
  },
  {
   "cell_type": "code",
   "execution_count": 30,
   "metadata": {},
   "outputs": [
    {
     "data": {
      "text/plain": [
       "Index(['Ladder score', 'Logged GDP per capita', 'Social support',\n",
       "       'Healthy life expectancy', 'Freedom to make life choices', 'Generosity',\n",
       "       'Perceptions of corruption'],\n",
       "      dtype='object')"
      ]
     },
     "execution_count": 30,
     "metadata": {},
     "output_type": "execute_result"
    }
   ],
   "source": [
    "df_data.columns"
   ]
  },
  {
   "cell_type": "code",
   "execution_count": 31,
   "metadata": {},
   "outputs": [
    {
     "data": {
      "text/html": [
       "<div>\n",
       "<style scoped>\n",
       "    .dataframe tbody tr th:only-of-type {\n",
       "        vertical-align: middle;\n",
       "    }\n",
       "\n",
       "    .dataframe tbody tr th {\n",
       "        vertical-align: top;\n",
       "    }\n",
       "\n",
       "    .dataframe thead th {\n",
       "        text-align: right;\n",
       "    }\n",
       "</style>\n",
       "<table border=\"1\" class=\"dataframe\">\n",
       "  <thead>\n",
       "    <tr style=\"text-align: right;\">\n",
       "      <th></th>\n",
       "      <th>Ladder score</th>\n",
       "      <th>Logged GDP per capita</th>\n",
       "      <th>Social support</th>\n",
       "      <th>Healthy life expectancy</th>\n",
       "      <th>Freedom to make life choices</th>\n",
       "      <th>Generosity</th>\n",
       "      <th>Perceptions of corruption</th>\n",
       "    </tr>\n",
       "    <tr>\n",
       "      <th>Country name</th>\n",
       "      <th></th>\n",
       "      <th></th>\n",
       "      <th></th>\n",
       "      <th></th>\n",
       "      <th></th>\n",
       "      <th></th>\n",
       "      <th></th>\n",
       "    </tr>\n",
       "  </thead>\n",
       "  <tbody>\n",
       "    <tr>\n",
       "      <th>Finland</th>\n",
       "      <td>7.842</td>\n",
       "      <td>10.775</td>\n",
       "      <td>0.954</td>\n",
       "      <td>72.0</td>\n",
       "      <td>0.949</td>\n",
       "      <td>-0.098</td>\n",
       "      <td>0.186</td>\n",
       "    </tr>\n",
       "    <tr>\n",
       "      <th>Denmark</th>\n",
       "      <td>7.620</td>\n",
       "      <td>10.933</td>\n",
       "      <td>0.954</td>\n",
       "      <td>72.7</td>\n",
       "      <td>0.946</td>\n",
       "      <td>0.030</td>\n",
       "      <td>0.179</td>\n",
       "    </tr>\n",
       "  </tbody>\n",
       "</table>\n",
       "</div>"
      ],
      "text/plain": [
       "              Ladder score  Logged GDP per capita  Social support  \\\n",
       "Country name                                                        \n",
       "Finland              7.842                 10.775           0.954   \n",
       "Denmark              7.620                 10.933           0.954   \n",
       "\n",
       "              Healthy life expectancy  Freedom to make life choices  \\\n",
       "Country name                                                          \n",
       "Finland                          72.0                         0.949   \n",
       "Denmark                          72.7                         0.946   \n",
       "\n",
       "              Generosity  Perceptions of corruption  \n",
       "Country name                                         \n",
       "Finland           -0.098                      0.186  \n",
       "Denmark            0.030                      0.179  "
      ]
     },
     "execution_count": 31,
     "metadata": {},
     "output_type": "execute_result"
    }
   ],
   "source": [
    "df_data.head(2)"
   ]
  },
  {
   "cell_type": "code",
   "execution_count": 32,
   "metadata": {},
   "outputs": [
    {
     "data": {
      "image/png": "[encoded data removed]",
      "text/plain": [
       "<Figure size 1080x576 with 7 Axes>"
      ]
     },
     "metadata": {
      "needs_background": "light"
     },
     "output_type": "display_data"
    }
   ],
   "source": [
    "# df_data.boxplot(figsize=(15,6));\n",
    "# plt.xticks(rotation=45);\n",
    "\n",
    "fig, ax = plt.subplots(nrows=3, ncols=3, figsize=(15,8))\n",
    "sns.boxplot(df_data[\"Ladder score\"], ax= ax[0,0], width=0.2);\n",
    "sns.boxplot(df_data[\"Logged GDP per capita\"], ax= ax[0,1], width=0.2);\n",
    "sns.boxplot(df_data[\"Social support\"], ax= ax[0,2], width=0.2);\n",
    "sns.boxplot(df_data[\"Healthy life expectancy\"], ax= ax[1,0], width=0.2);\n",
    "sns.boxplot(df_data[\"Freedom to make life choices\"], ax= ax[1,1], width=0.2);\n",
    "sns.boxplot(df_data[\"Generosity\"], ax= ax[1,2], width=0.2);\n",
    "sns.boxplot(df_data[\"Perceptions of corruption\"], ax= ax[2,1], width=0.2);\n",
    "fig.delaxes(ax[2,0]);  \n",
    "fig.delaxes(ax[2,2]);\n",
    "plt.tight_layout(); "
   ]
  },
  {
   "cell_type": "markdown",
   "metadata": {},
   "source": [
    "**-There are outliers is Ladder score, social support, generosity, freedom to make life choices and perceptions of corruption**"
   ]
  },
  {
   "cell_type": "code",
   "execution_count": 33,
   "metadata": {},
   "outputs": [
    {
     "data": {
      "image/png": "[encoded data removed]",
      "text/plain": [
       "<Figure size 1080x576 with 9 Axes>"
      ]
     },
     "metadata": {
      "needs_background": "light"
     },
     "output_type": "display_data"
    }
   ],
   "source": [
    "df_data.hist(figsize=(15,8), bins = 50);"
   ]
  },
  {
   "cell_type": "markdown",
   "metadata": {},
   "source": [
    "#### I will scale the above data :-\n",
    "\n",
    "- Since the data features are in different ranges and there are outliers present in the data, so I will use Robust scaling to scale the data before PCA.\n",
    "- Robust standardization or robust data scaling:  approach to standardizing input variables in the presence of outliers is to ignore the outliers from the calculation of the mean and standard deviation, then use the calculated values to scale the variable.\n",
    "\n",
    "- This can be achieved by calculating the median (50th percentile) and the 25th and 75th percentiles. The values of each variable then have their median subtracted and are divided by the interquartile range (IQR) which is the difference between the 75th and 25th percentiles.\n",
    "\n",
    "- value = (value – median) / (p75 – p25)\n",
    "- The resulting variable has a zero mean and median and a standard deviation of 1, although the outliers are still present with the same relative relationships to other values."
   ]
  },
  {
   "cell_type": "code",
   "execution_count": 34,
   "metadata": {},
   "outputs": [
    {
     "data": {
      "text/html": [
       "<div>\n",
       "<style scoped>\n",
       "    .dataframe tbody tr th:only-of-type {\n",
       "        vertical-align: middle;\n",
       "    }\n",
       "\n",
       "    .dataframe tbody tr th {\n",
       "        vertical-align: top;\n",
       "    }\n",
       "\n",
       "    .dataframe thead th {\n",
       "        text-align: right;\n",
       "    }\n",
       "</style>\n",
       "<table border=\"1\" class=\"dataframe\">\n",
       "  <thead>\n",
       "    <tr style=\"text-align: right;\">\n",
       "      <th></th>\n",
       "      <th>Ladder score</th>\n",
       "      <th>Logged GDP per capita</th>\n",
       "      <th>Social support</th>\n",
       "      <th>Healthy life expectancy</th>\n",
       "      <th>Freedom to make life choices</th>\n",
       "      <th>Generosity</th>\n",
       "      <th>Perceptions of corruption</th>\n",
       "    </tr>\n",
       "  </thead>\n",
       "  <tbody>\n",
       "    <tr>\n",
       "      <th>0</th>\n",
       "      <td>1.645046</td>\n",
       "      <td>0.641489</td>\n",
       "      <td>0.787097</td>\n",
       "      <td>0.550827</td>\n",
       "      <td>0.911950</td>\n",
       "      <td>-0.302439</td>\n",
       "      <td>-3.342697</td>\n",
       "    </tr>\n",
       "    <tr>\n",
       "      <th>1</th>\n",
       "      <td>1.486814</td>\n",
       "      <td>0.725532</td>\n",
       "      <td>0.787097</td>\n",
       "      <td>0.622270</td>\n",
       "      <td>0.893082</td>\n",
       "      <td>0.321951</td>\n",
       "      <td>-3.382022</td>\n",
       "    </tr>\n",
       "  </tbody>\n",
       "</table>\n",
       "</div>"
      ],
      "text/plain": [
       "   Ladder score  Logged GDP per capita  Social support  \\\n",
       "0      1.645046               0.641489        0.787097   \n",
       "1      1.486814               0.725532        0.787097   \n",
       "\n",
       "   Healthy life expectancy  Freedom to make life choices  Generosity  \\\n",
       "0                 0.550827                      0.911950   -0.302439   \n",
       "1                 0.622270                      0.893082    0.321951   \n",
       "\n",
       "   Perceptions of corruption  \n",
       "0                  -3.342697  \n",
       "1                  -3.382022  "
      ]
     },
     "execution_count": 34,
     "metadata": {},
     "output_type": "execute_result"
    }
   ],
   "source": [
    "from sklearn.preprocessing import RobustScaler\n",
    "\n",
    "rob = RobustScaler()\n",
    "df_scaled = rob.fit_transform(df_data)\n",
    "\n",
    "df_scaled= pd.DataFrame(df_scaled, columns=df_data.columns)\n",
    "df_scaled.head(2)"
   ]
  },
  {
   "cell_type": "code",
   "execution_count": 35,
   "metadata": {},
   "outputs": [
    {
     "data": {
      "text/html": [
       "<div>\n",
       "<style scoped>\n",
       "    .dataframe tbody tr th:only-of-type {\n",
       "        vertical-align: middle;\n",
       "    }\n",
       "\n",
       "    .dataframe tbody tr th {\n",
       "        vertical-align: top;\n",
       "    }\n",
       "\n",
       "    .dataframe thead th {\n",
       "        text-align: right;\n",
       "    }\n",
       "</style>\n",
       "<table border=\"1\" class=\"dataframe\">\n",
       "  <thead>\n",
       "    <tr style=\"text-align: right;\">\n",
       "      <th></th>\n",
       "      <th>Ladder score</th>\n",
       "      <th>Logged GDP per capita</th>\n",
       "      <th>Social support</th>\n",
       "      <th>Healthy life expectancy</th>\n",
       "      <th>Freedom to make life choices</th>\n",
       "      <th>Generosity</th>\n",
       "      <th>Perceptions of corruption</th>\n",
       "    </tr>\n",
       "  </thead>\n",
       "  <tbody>\n",
       "    <tr>\n",
       "      <th>count</th>\n",
       "      <td>149.000000</td>\n",
       "      <td>149.000000</td>\n",
       "      <td>149.000000</td>\n",
       "      <td>149.000000</td>\n",
       "      <td>149.000000</td>\n",
       "      <td>149.000000</td>\n",
       "      <td>149.000000</td>\n",
       "    </tr>\n",
       "    <tr>\n",
       "      <th>mean</th>\n",
       "      <td>5.532839</td>\n",
       "      <td>9.432208</td>\n",
       "      <td>0.814745</td>\n",
       "      <td>64.992799</td>\n",
       "      <td>0.791597</td>\n",
       "      <td>-0.015134</td>\n",
       "      <td>0.727450</td>\n",
       "    </tr>\n",
       "    <tr>\n",
       "      <th>std</th>\n",
       "      <td>1.073924</td>\n",
       "      <td>1.158601</td>\n",
       "      <td>0.114889</td>\n",
       "      <td>6.762043</td>\n",
       "      <td>0.113332</td>\n",
       "      <td>0.150657</td>\n",
       "      <td>0.179226</td>\n",
       "    </tr>\n",
       "    <tr>\n",
       "      <th>min</th>\n",
       "      <td>2.523000</td>\n",
       "      <td>6.635000</td>\n",
       "      <td>0.463000</td>\n",
       "      <td>48.478000</td>\n",
       "      <td>0.382000</td>\n",
       "      <td>-0.288000</td>\n",
       "      <td>0.082000</td>\n",
       "    </tr>\n",
       "    <tr>\n",
       "      <th>25%</th>\n",
       "      <td>4.852000</td>\n",
       "      <td>8.541000</td>\n",
       "      <td>0.750000</td>\n",
       "      <td>59.802000</td>\n",
       "      <td>0.718000</td>\n",
       "      <td>-0.126000</td>\n",
       "      <td>0.667000</td>\n",
       "    </tr>\n",
       "    <tr>\n",
       "      <th>50%</th>\n",
       "      <td>5.534000</td>\n",
       "      <td>9.569000</td>\n",
       "      <td>0.832000</td>\n",
       "      <td>66.603000</td>\n",
       "      <td>0.804000</td>\n",
       "      <td>-0.036000</td>\n",
       "      <td>0.781000</td>\n",
       "    </tr>\n",
       "    <tr>\n",
       "      <th>75%</th>\n",
       "      <td>6.255000</td>\n",
       "      <td>10.421000</td>\n",
       "      <td>0.905000</td>\n",
       "      <td>69.600000</td>\n",
       "      <td>0.877000</td>\n",
       "      <td>0.079000</td>\n",
       "      <td>0.845000</td>\n",
       "    </tr>\n",
       "    <tr>\n",
       "      <th>max</th>\n",
       "      <td>7.842000</td>\n",
       "      <td>11.647000</td>\n",
       "      <td>0.983000</td>\n",
       "      <td>76.953000</td>\n",
       "      <td>0.970000</td>\n",
       "      <td>0.542000</td>\n",
       "      <td>0.939000</td>\n",
       "    </tr>\n",
       "  </tbody>\n",
       "</table>\n",
       "</div>"
      ],
      "text/plain": [
       "       Ladder score  Logged GDP per capita  Social support  \\\n",
       "count    149.000000             149.000000      149.000000   \n",
       "mean       5.532839               9.432208        0.814745   \n",
       "std        1.073924               1.158601        0.114889   \n",
       "min        2.523000               6.635000        0.463000   \n",
       "25%        4.852000               8.541000        0.750000   \n",
       "50%        5.534000               9.569000        0.832000   \n",
       "75%        6.255000              10.421000        0.905000   \n",
       "max        7.842000              11.647000        0.983000   \n",
       "\n",
       "       Healthy life expectancy  Freedom to make life choices  Generosity  \\\n",
       "count               149.000000                    149.000000  149.000000   \n",
       "mean                 64.992799                      0.791597   -0.015134   \n",
       "std                   6.762043                      0.113332    0.150657   \n",
       "min                  48.478000                      0.382000   -0.288000   \n",
       "25%                  59.802000                      0.718000   -0.126000   \n",
       "50%                  66.603000                      0.804000   -0.036000   \n",
       "75%                  69.600000                      0.877000    0.079000   \n",
       "max                  76.953000                      0.970000    0.542000   \n",
       "\n",
       "       Perceptions of corruption  \n",
       "count                 149.000000  \n",
       "mean                    0.727450  \n",
       "std                     0.179226  \n",
       "min                     0.082000  \n",
       "25%                     0.667000  \n",
       "50%                     0.781000  \n",
       "75%                     0.845000  \n",
       "max                     0.939000  "
      ]
     },
     "execution_count": 35,
     "metadata": {},
     "output_type": "execute_result"
    }
   ],
   "source": [
    "df_data.describe() # checking standard deviation in original data"
   ]
  },
  {
   "cell_type": "code",
   "execution_count": 36,
   "metadata": {},
   "outputs": [
    {
     "data": {
      "text/html": [
       "<div>\n",
       "<style scoped>\n",
       "    .dataframe tbody tr th:only-of-type {\n",
       "        vertical-align: middle;\n",
       "    }\n",
       "\n",
       "    .dataframe tbody tr th {\n",
       "        vertical-align: top;\n",
       "    }\n",
       "\n",
       "    .dataframe thead th {\n",
       "        text-align: right;\n",
       "    }\n",
       "</style>\n",
       "<table border=\"1\" class=\"dataframe\">\n",
       "  <thead>\n",
       "    <tr style=\"text-align: right;\">\n",
       "      <th></th>\n",
       "      <th>Ladder score</th>\n",
       "      <th>Logged GDP per capita</th>\n",
       "      <th>Social support</th>\n",
       "      <th>Healthy life expectancy</th>\n",
       "      <th>Freedom to make life choices</th>\n",
       "      <th>Generosity</th>\n",
       "      <th>Perceptions of corruption</th>\n",
       "    </tr>\n",
       "  </thead>\n",
       "  <tbody>\n",
       "    <tr>\n",
       "      <th>count</th>\n",
       "      <td>149.000000</td>\n",
       "      <td>149.000000</td>\n",
       "      <td>149.000000</td>\n",
       "      <td>149.000000</td>\n",
       "      <td>149.000000</td>\n",
       "      <td>149.000000</td>\n",
       "      <td>149.000000</td>\n",
       "    </tr>\n",
       "    <tr>\n",
       "      <th>mean</th>\n",
       "      <td>-0.000828</td>\n",
       "      <td>-0.072762</td>\n",
       "      <td>-0.111323</td>\n",
       "      <td>-0.164340</td>\n",
       "      <td>-0.078004</td>\n",
       "      <td>0.101784</td>\n",
       "      <td>-0.300845</td>\n",
       "    </tr>\n",
       "    <tr>\n",
       "      <th>std</th>\n",
       "      <td>0.765448</td>\n",
       "      <td>0.616277</td>\n",
       "      <td>0.741220</td>\n",
       "      <td>0.690145</td>\n",
       "      <td>0.712779</td>\n",
       "      <td>0.734911</td>\n",
       "      <td>1.006889</td>\n",
       "    </tr>\n",
       "    <tr>\n",
       "      <th>min</th>\n",
       "      <td>-2.146115</td>\n",
       "      <td>-1.560638</td>\n",
       "      <td>-2.380645</td>\n",
       "      <td>-1.849867</td>\n",
       "      <td>-2.654088</td>\n",
       "      <td>-1.229268</td>\n",
       "      <td>-3.926966</td>\n",
       "    </tr>\n",
       "    <tr>\n",
       "      <th>25%</th>\n",
       "      <td>-0.486101</td>\n",
       "      <td>-0.546809</td>\n",
       "      <td>-0.529032</td>\n",
       "      <td>-0.694121</td>\n",
       "      <td>-0.540881</td>\n",
       "      <td>-0.439024</td>\n",
       "      <td>-0.640449</td>\n",
       "    </tr>\n",
       "    <tr>\n",
       "      <th>50%</th>\n",
       "      <td>0.000000</td>\n",
       "      <td>0.000000</td>\n",
       "      <td>0.000000</td>\n",
       "      <td>0.000000</td>\n",
       "      <td>0.000000</td>\n",
       "      <td>0.000000</td>\n",
       "      <td>0.000000</td>\n",
       "    </tr>\n",
       "    <tr>\n",
       "      <th>75%</th>\n",
       "      <td>0.513899</td>\n",
       "      <td>0.453191</td>\n",
       "      <td>0.470968</td>\n",
       "      <td>0.305879</td>\n",
       "      <td>0.459119</td>\n",
       "      <td>0.560976</td>\n",
       "      <td>0.359551</td>\n",
       "    </tr>\n",
       "    <tr>\n",
       "      <th>max</th>\n",
       "      <td>1.645046</td>\n",
       "      <td>1.105319</td>\n",
       "      <td>0.974194</td>\n",
       "      <td>1.056338</td>\n",
       "      <td>1.044025</td>\n",
       "      <td>2.819512</td>\n",
       "      <td>0.887640</td>\n",
       "    </tr>\n",
       "  </tbody>\n",
       "</table>\n",
       "</div>"
      ],
      "text/plain": [
       "       Ladder score  Logged GDP per capita  Social support  \\\n",
       "count    149.000000             149.000000      149.000000   \n",
       "mean      -0.000828              -0.072762       -0.111323   \n",
       "std        0.765448               0.616277        0.741220   \n",
       "min       -2.146115              -1.560638       -2.380645   \n",
       "25%       -0.486101              -0.546809       -0.529032   \n",
       "50%        0.000000               0.000000        0.000000   \n",
       "75%        0.513899               0.453191        0.470968   \n",
       "max        1.645046               1.105319        0.974194   \n",
       "\n",
       "       Healthy life expectancy  Freedom to make life choices  Generosity  \\\n",
       "count               149.000000                    149.000000  149.000000   \n",
       "mean                 -0.164340                     -0.078004    0.101784   \n",
       "std                   0.690145                      0.712779    0.734911   \n",
       "min                  -1.849867                     -2.654088   -1.229268   \n",
       "25%                  -0.694121                     -0.540881   -0.439024   \n",
       "50%                   0.000000                      0.000000    0.000000   \n",
       "75%                   0.305879                      0.459119    0.560976   \n",
       "max                   1.056338                      1.044025    2.819512   \n",
       "\n",
       "       Perceptions of corruption  \n",
       "count                 149.000000  \n",
       "mean                   -0.300845  \n",
       "std                     1.006889  \n",
       "min                    -3.926966  \n",
       "25%                    -0.640449  \n",
       "50%                     0.000000  \n",
       "75%                     0.359551  \n",
       "max                     0.887640  "
      ]
     },
     "execution_count": 36,
     "metadata": {},
     "output_type": "execute_result"
    }
   ],
   "source": [
    "df_scaled.describe()  # The standard deviation of data is now on the similar scale. Compared to the original data, data is scaled."
   ]
  },
  {
   "cell_type": "markdown",
   "metadata": {},
   "source": [
    "**- Scaled data still has outliers and some features are skewed, but variables have similar scales now**"
   ]
  },
  {
   "cell_type": "code",
   "execution_count": 37,
   "metadata": {},
   "outputs": [
    {
     "data": {
      "text/html": [
       "<div>\n",
       "<style scoped>\n",
       "    .dataframe tbody tr th:only-of-type {\n",
       "        vertical-align: middle;\n",
       "    }\n",
       "\n",
       "    .dataframe tbody tr th {\n",
       "        vertical-align: top;\n",
       "    }\n",
       "\n",
       "    .dataframe thead th {\n",
       "        text-align: right;\n",
       "    }\n",
       "</style>\n",
       "<table border=\"1\" class=\"dataframe\">\n",
       "  <thead>\n",
       "    <tr style=\"text-align: right;\">\n",
       "      <th></th>\n",
       "      <th>Ladder score</th>\n",
       "      <th>Logged GDP per capita</th>\n",
       "      <th>Social support</th>\n",
       "      <th>Healthy life expectancy</th>\n",
       "      <th>Freedom to make life choices</th>\n",
       "      <th>Generosity</th>\n",
       "      <th>Perceptions of corruption</th>\n",
       "    </tr>\n",
       "    <tr>\n",
       "      <th>Country name</th>\n",
       "      <th></th>\n",
       "      <th></th>\n",
       "      <th></th>\n",
       "      <th></th>\n",
       "      <th></th>\n",
       "      <th></th>\n",
       "      <th></th>\n",
       "    </tr>\n",
       "  </thead>\n",
       "  <tbody>\n",
       "    <tr>\n",
       "      <th>Finland</th>\n",
       "      <td>1.645046</td>\n",
       "      <td>0.641489</td>\n",
       "      <td>0.787097</td>\n",
       "      <td>0.550827</td>\n",
       "      <td>0.911950</td>\n",
       "      <td>-0.302439</td>\n",
       "      <td>-3.342697</td>\n",
       "    </tr>\n",
       "    <tr>\n",
       "      <th>Denmark</th>\n",
       "      <td>1.486814</td>\n",
       "      <td>0.725532</td>\n",
       "      <td>0.787097</td>\n",
       "      <td>0.622270</td>\n",
       "      <td>0.893082</td>\n",
       "      <td>0.321951</td>\n",
       "      <td>-3.382022</td>\n",
       "    </tr>\n",
       "  </tbody>\n",
       "</table>\n",
       "</div>"
      ],
      "text/plain": [
       "              Ladder score  Logged GDP per capita  Social support  \\\n",
       "Country name                                                        \n",
       "Finland           1.645046               0.641489        0.787097   \n",
       "Denmark           1.486814               0.725532        0.787097   \n",
       "\n",
       "              Healthy life expectancy  Freedom to make life choices  \\\n",
       "Country name                                                          \n",
       "Finland                      0.550827                      0.911950   \n",
       "Denmark                      0.622270                      0.893082   \n",
       "\n",
       "              Generosity  Perceptions of corruption  \n",
       "Country name                                         \n",
       "Finland        -0.302439                  -3.342697  \n",
       "Denmark         0.321951                  -3.382022  "
      ]
     },
     "execution_count": 37,
     "metadata": {},
     "output_type": "execute_result"
    }
   ],
   "source": [
    "df_scaled.index = df_data.index\n",
    "df_scaled.head(2)"
   ]
  },
  {
   "cell_type": "markdown",
   "metadata": {},
   "source": [
    "### PCA on this scaled data to handle multicollinearity"
   ]
  },
  {
   "cell_type": "code",
   "execution_count": 38,
   "metadata": {},
   "outputs": [],
   "source": [
    "from sklearn.decomposition import PCA\n",
    "\n",
    "pca = PCA(n_components=3,  random_state=250) "
   ]
  },
  {
   "cell_type": "code",
   "execution_count": 39,
   "metadata": {},
   "outputs": [],
   "source": [
    "df_pca = pca.fit_transform(df_scaled)"
   ]
  },
  {
   "cell_type": "code",
   "execution_count": 40,
   "metadata": {},
   "outputs": [],
   "source": [
    "df_pca = pd.DataFrame(data= df_pca, columns=[f\"PC{i}\" for i in range(df_pca.shape[1])])"
   ]
  },
  {
   "cell_type": "code",
   "execution_count": 41,
   "metadata": {},
   "outputs": [
    {
     "data": {
      "text/plain": [
       "(3.497259530568262, 0.8627989662424069)"
      ]
     },
     "execution_count": 41,
     "metadata": {},
     "output_type": "execute_result"
    }
   ],
   "source": [
    "np.sum(pca.explained_variance_) , np.sum(pca.explained_variance_ratio_)"
   ]
  },
  {
   "cell_type": "code",
   "execution_count": 42,
   "metadata": {},
   "outputs": [
    {
     "data": {
      "text/plain": [
       "array([0.52348895, 0.21515436, 0.12415566])"
      ]
     },
     "execution_count": 42,
     "metadata": {},
     "output_type": "execute_result"
    }
   ],
   "source": [
    "pca.explained_variance_ratio_"
   ]
  },
  {
   "cell_type": "code",
   "execution_count": 43,
   "metadata": {},
   "outputs": [
    {
     "data": {
      "text/html": [
       "<div>\n",
       "<style scoped>\n",
       "    .dataframe tbody tr th:only-of-type {\n",
       "        vertical-align: middle;\n",
       "    }\n",
       "\n",
       "    .dataframe tbody tr th {\n",
       "        vertical-align: top;\n",
       "    }\n",
       "\n",
       "    .dataframe thead th {\n",
       "        text-align: right;\n",
       "    }\n",
       "</style>\n",
       "<table border=\"1\" class=\"dataframe\">\n",
       "  <thead>\n",
       "    <tr style=\"text-align: right;\">\n",
       "      <th></th>\n",
       "      <th>PC0</th>\n",
       "      <th>PC1</th>\n",
       "      <th>PC2</th>\n",
       "    </tr>\n",
       "  </thead>\n",
       "  <tbody>\n",
       "    <tr>\n",
       "      <th>0</th>\n",
       "      <td>-3.388624</td>\n",
       "      <td>1.339949</td>\n",
       "      <td>-1.092996</td>\n",
       "    </tr>\n",
       "    <tr>\n",
       "      <th>1</th>\n",
       "      <td>-3.379034</td>\n",
       "      <td>1.651316</td>\n",
       "      <td>-0.671262</td>\n",
       "    </tr>\n",
       "  </tbody>\n",
       "</table>\n",
       "</div>"
      ],
      "text/plain": [
       "        PC0       PC1       PC2\n",
       "0 -3.388624  1.339949 -1.092996\n",
       "1 -3.379034  1.651316 -0.671262"
      ]
     },
     "execution_count": 43,
     "metadata": {},
     "output_type": "execute_result"
    }
   ],
   "source": [
    "df_pca.head(2)"
   ]
  },
  {
   "cell_type": "code",
   "execution_count": 44,
   "metadata": {},
   "outputs": [
    {
     "data": {
      "text/plain": [
       "((149, 3), (149, 7))"
      ]
     },
     "execution_count": 44,
     "metadata": {},
     "output_type": "execute_result"
    }
   ],
   "source": [
    "df_pca.shape, df_data.shape"
   ]
  },
  {
   "cell_type": "code",
   "execution_count": 45,
   "metadata": {},
   "outputs": [
    {
     "data": {
      "text/html": [
       "<div>\n",
       "<style scoped>\n",
       "    .dataframe tbody tr th:only-of-type {\n",
       "        vertical-align: middle;\n",
       "    }\n",
       "\n",
       "    .dataframe tbody tr th {\n",
       "        vertical-align: top;\n",
       "    }\n",
       "\n",
       "    .dataframe thead th {\n",
       "        text-align: right;\n",
       "    }\n",
       "</style>\n",
       "<table border=\"1\" class=\"dataframe\">\n",
       "  <thead>\n",
       "    <tr style=\"text-align: right;\">\n",
       "      <th></th>\n",
       "      <th>PC0</th>\n",
       "      <th>PC1</th>\n",
       "      <th>PC2</th>\n",
       "    </tr>\n",
       "    <tr>\n",
       "      <th>Country name</th>\n",
       "      <th></th>\n",
       "      <th></th>\n",
       "      <th></th>\n",
       "    </tr>\n",
       "  </thead>\n",
       "  <tbody>\n",
       "    <tr>\n",
       "      <th>Finland</th>\n",
       "      <td>-3.388624</td>\n",
       "      <td>1.339949</td>\n",
       "      <td>-1.092996</td>\n",
       "    </tr>\n",
       "    <tr>\n",
       "      <th>Denmark</th>\n",
       "      <td>-3.379034</td>\n",
       "      <td>1.651316</td>\n",
       "      <td>-0.671262</td>\n",
       "    </tr>\n",
       "  </tbody>\n",
       "</table>\n",
       "</div>"
      ],
      "text/plain": [
       "                   PC0       PC1       PC2\n",
       "Country name                              \n",
       "Finland      -3.388624  1.339949 -1.092996\n",
       "Denmark      -3.379034  1.651316 -0.671262"
      ]
     },
     "execution_count": 45,
     "metadata": {},
     "output_type": "execute_result"
    }
   ],
   "source": [
    "df_pca.index = df_data.index\n",
    "df_pca.head(2)"
   ]
  },
  {
   "cell_type": "markdown",
   "metadata": {},
   "source": [
    "## K-means clustering process \n",
    "- A cluster refers to a collection of data points aggregated together because of certain similarities.\n",
    "- In other words, the K-means algorithm identifies k number of centroids, and then allocates every data point to the nearest cluster.\n",
    "- The ‘means’ in the K-means refers to averaging of the data; that is, finding the centroid."
   ]
  },
  {
   "cell_type": "code",
   "execution_count": 46,
   "metadata": {},
   "outputs": [
    {
     "name": "stdout",
     "output_type": "stream",
     "text": [
      "{2: 309.7496059716681, 3: 196.86826315485948, 4: 164.7426260024966, 5: 138.70614393985315, 6: 124.47731103320646, 7: 109.40464883126972, 8: 100.4904001939215, 9: 88.70990610456516, 10: 79.94827363211246}\n",
      "{2: 0.3689247465284196, 3: 0.3986587627163907, 4: 0.3524361230132045, 5: 0.34626258181938574, 6: 0.3173061713525937, 7: 0.31522083273986407, 8: 0.28677879831902386, 9: 0.32008321719133753, 10: 0.31597868700270126}\n"
     ]
    }
   ],
   "source": [
    "# Checking how many clusters should be made\n",
    "\n",
    "from sklearn.cluster import KMeans\n",
    "from sklearn.metrics import silhouette_score\n",
    "\n",
    "inertia_dict ={}\n",
    "sil_dict ={}\n",
    "\n",
    "for i in range(2,11):\n",
    "    kmeans = KMeans(n_clusters=i, random_state=250)\n",
    "    kmeans.fit(df_pca)\n",
    "    inertia_dict[i] = kmeans.inertia_\n",
    "    score = silhouette_score(df_pca, kmeans.labels_, metric='euclidean')\n",
    "    sil_dict[i] = score\n",
    "\n",
    "print(inertia_dict)\n",
    "print(sil_dict)\n",
    "    "
   ]
  },
  {
   "cell_type": "markdown",
   "metadata": {},
   "source": [
    "- The Silhouette score is maximum for 3 clusters, but the value of 0.398 is still very low (a good cluster should have score of 0.7), but i will still move forward to see the clusters formed."
   ]
  },
  {
   "cell_type": "markdown",
   "metadata": {},
   "source": [
    "### Cluster Inertia plot for different number of clusters\n",
    "- Inertia can be recognized as a measure of how internally coherent clusters are."
   ]
  },
  {
   "cell_type": "code",
   "execution_count": 47,
   "metadata": {},
   "outputs": [
    {
     "data": {
      "image/png": "[encoded data removed]",
      "text/plain": [
       "<Figure size 432x288 with 1 Axes>"
      ]
     },
     "metadata": {
      "needs_background": "light"
     },
     "output_type": "display_data"
    }
   ],
   "source": [
    "inertias = pd.DataFrame({\"Clusters\":list(inertia_dict.keys()) , \"Inertia\":list(inertia_dict.values())})\n",
    "plt.plot(inertias.Clusters,inertias.Inertia)\n",
    "plt.xlabel(\"Number of clusters\")\n",
    "plt.ylabel(\"Inertia\");"
   ]
  },
  {
   "cell_type": "markdown",
   "metadata": {},
   "source": [
    "**- Since 3 clusters are giving the highest silhouette score among all 10, so I will keep the cluster number as 3 for now**"
   ]
  },
  {
   "cell_type": "code",
   "execution_count": 48,
   "metadata": {},
   "outputs": [
    {
     "data": {
      "text/plain": [
       "KMeans(algorithm='auto', copy_x=True, init='k-means++', max_iter=300,\n",
       "       n_clusters=3, n_init=10, n_jobs=None, precompute_distances='auto',\n",
       "       random_state=250, tol=0.0001, verbose=0)"
      ]
     },
     "execution_count": 48,
     "metadata": {},
     "output_type": "execute_result"
    }
   ],
   "source": [
    "from sklearn.cluster import KMeans\n",
    "kmeans = KMeans(n_clusters=3, random_state= 250)   # number of clusters to be formed taken as 3\n",
    "kmeans.fit(df_pca)"
   ]
  },
  {
   "cell_type": "markdown",
   "metadata": {},
   "source": [
    "### Show cluster membership"
   ]
  },
  {
   "cell_type": "code",
   "execution_count": 49,
   "metadata": {},
   "outputs": [
    {
     "data": {
      "text/html": [
       "<div>\n",
       "<style scoped>\n",
       "    .dataframe tbody tr th:only-of-type {\n",
       "        vertical-align: middle;\n",
       "    }\n",
       "\n",
       "    .dataframe tbody tr th {\n",
       "        vertical-align: top;\n",
       "    }\n",
       "\n",
       "    .dataframe thead th {\n",
       "        text-align: right;\n",
       "    }\n",
       "</style>\n",
       "<table border=\"1\" class=\"dataframe\">\n",
       "  <thead>\n",
       "    <tr style=\"text-align: right;\">\n",
       "      <th></th>\n",
       "      <th>PC0</th>\n",
       "      <th>PC1</th>\n",
       "      <th>PC2</th>\n",
       "      <th>Cluster id</th>\n",
       "    </tr>\n",
       "    <tr>\n",
       "      <th>Country name</th>\n",
       "      <th></th>\n",
       "      <th></th>\n",
       "      <th></th>\n",
       "      <th></th>\n",
       "    </tr>\n",
       "  </thead>\n",
       "  <tbody>\n",
       "    <tr>\n",
       "      <th>Finland</th>\n",
       "      <td>-3.388624</td>\n",
       "      <td>1.339949</td>\n",
       "      <td>-1.092996</td>\n",
       "      <td>1</td>\n",
       "    </tr>\n",
       "    <tr>\n",
       "      <th>Denmark</th>\n",
       "      <td>-3.379034</td>\n",
       "      <td>1.651316</td>\n",
       "      <td>-0.671262</td>\n",
       "      <td>1</td>\n",
       "    </tr>\n",
       "    <tr>\n",
       "      <th>Switzerland</th>\n",
       "      <td>-3.096783</td>\n",
       "      <td>1.124515</td>\n",
       "      <td>-0.482350</td>\n",
       "      <td>1</td>\n",
       "    </tr>\n",
       "    <tr>\n",
       "      <th>Iceland</th>\n",
       "      <td>-2.215128</td>\n",
       "      <td>-0.146119</td>\n",
       "      <td>1.181967</td>\n",
       "      <td>1</td>\n",
       "    </tr>\n",
       "    <tr>\n",
       "      <th>Netherlands</th>\n",
       "      <td>-2.808975</td>\n",
       "      <td>1.352516</td>\n",
       "      <td>0.193425</td>\n",
       "      <td>1</td>\n",
       "    </tr>\n",
       "  </tbody>\n",
       "</table>\n",
       "</div>"
      ],
      "text/plain": [
       "                   PC0       PC1       PC2  Cluster id\n",
       "Country name                                          \n",
       "Finland      -3.388624  1.339949 -1.092996           1\n",
       "Denmark      -3.379034  1.651316 -0.671262           1\n",
       "Switzerland  -3.096783  1.124515 -0.482350           1\n",
       "Iceland      -2.215128 -0.146119  1.181967           1\n",
       "Netherlands  -2.808975  1.352516  0.193425           1"
      ]
     },
     "execution_count": 49,
     "metadata": {},
     "output_type": "execute_result"
    }
   ],
   "source": [
    "df_pca[\"Cluster id\"] = kmeans.labels_\n",
    "df_pca.head()"
   ]
  },
  {
   "cell_type": "code",
   "execution_count": 50,
   "metadata": {},
   "outputs": [
    {
     "data": {
      "text/plain": [
       "{0: 'Israel, Costa Rica, Czech Republic, United States, Belgium, Bahrain, Taiwan Province of China, Saudi Arabia, Spain, Italy, Slovenia, Guatemala, Kosovo, Slovakia, Brazil, Mexico, Jamaica, Lithuania, Cyprus, Panama, Chile, Poland, Kazakhstan, Romania, Kuwait, Serbia, El Salvador, Mauritius, Latvia, Colombia, Hungary, Thailand, Nicaragua, Japan, Argentina, Portugal, Honduras, Croatia, Philippines, South Korea, Peru, Bosnia and Herzegovina, Moldova, Ecuador, Kyrgyzstan, Greece, Bolivia, Mongolia, Paraguay, Montenegro, Dominican Republic, North Cyprus, Belarus, Russia, Tajikistan, Vietnam, Libya, Malaysia, China, Armenia, Bulgaria, Maldives, Azerbaijan, Albania, North Macedonia, Turkmenistan, South Africa, Turkey, Venezuela, Ukraine, Gabon, Lebanon, Jordan, Sri Lanka',\n",
       " 1: 'Finland, Denmark, Switzerland, Iceland, Netherlands, Norway, Sweden, Luxembourg, New Zealand, Austria, Australia, Germany, Canada, Ireland, United Kingdom, France, Malta, United Arab Emirates, Uruguay, Singapore, Estonia, Uzbekistan, Hong Kong S.A.R. of China',\n",
       " 2: 'Indonesia, Congo (Brazzaville), Ivory Coast, Nepal, Cameroon, Senegal, Ghana, Niger, Gambia, Benin, Laos, Bangladesh, Guinea, Pakistan, Morocco, Georgia, Algeria, Iraq, Burkina Faso, Cambodia, Mozambique, Nigeria, Mali, Iran, Uganda, Liberia, Kenya, Tunisia, Namibia, Palestinian Territories, Myanmar, Chad, Swaziland, Comoros, Egypt, Ethiopia, Mauritania, Madagascar, Togo, Zambia, Sierra Leone, India, Burundi, Yemen, Tanzania, Haiti, Malawi, Lesotho, Botswana, Rwanda, Zimbabwe, Afghanistan'}"
      ]
     },
     "execution_count": 50,
     "metadata": {},
     "output_type": "execute_result"
    }
   ],
   "source": [
    "clusters={}\n",
    "for i in range(0,3):\n",
    "    clusters[i] = ', '.join((df_pca[df_pca[\"Cluster id\"] == i].index).tolist())\n",
    "    \n",
    "clusters"
   ]
  },
  {
   "cell_type": "markdown",
   "metadata": {},
   "source": [
    "#### In the above output, we see each of the 3 clusters formed with countries that belong to them. Most similar countries are clustered together."
   ]
  },
  {
   "cell_type": "code",
   "execution_count": 51,
   "metadata": {},
   "outputs": [
    {
     "data": {
      "text/html": [
       "<div>\n",
       "<style scoped>\n",
       "    .dataframe tbody tr th:only-of-type {\n",
       "        vertical-align: middle;\n",
       "    }\n",
       "\n",
       "    .dataframe tbody tr th {\n",
       "        vertical-align: top;\n",
       "    }\n",
       "\n",
       "    .dataframe thead th {\n",
       "        text-align: right;\n",
       "    }\n",
       "</style>\n",
       "<table border=\"1\" class=\"dataframe\">\n",
       "  <thead>\n",
       "    <tr style=\"text-align: right;\">\n",
       "      <th></th>\n",
       "      <th>PC0</th>\n",
       "      <th>PC1</th>\n",
       "      <th>PC2</th>\n",
       "    </tr>\n",
       "  </thead>\n",
       "  <tbody>\n",
       "    <tr>\n",
       "      <th>0</th>\n",
       "      <td>-0.285007</td>\n",
       "      <td>-0.670041</td>\n",
       "      <td>0.077268</td>\n",
       "    </tr>\n",
       "    <tr>\n",
       "      <th>1</th>\n",
       "      <td>-2.409325</td>\n",
       "      <td>0.887647</td>\n",
       "      <td>-0.119878</td>\n",
       "    </tr>\n",
       "    <tr>\n",
       "      <th>2</th>\n",
       "      <td>1.471250</td>\n",
       "      <td>0.560906</td>\n",
       "      <td>-0.056935</td>\n",
       "    </tr>\n",
       "  </tbody>\n",
       "</table>\n",
       "</div>"
      ],
      "text/plain": [
       "        PC0       PC1       PC2\n",
       "0 -0.285007 -0.670041  0.077268\n",
       "1 -2.409325  0.887647 -0.119878\n",
       "2  1.471250  0.560906 -0.056935"
      ]
     },
     "execution_count": 51,
     "metadata": {},
     "output_type": "execute_result"
    }
   ],
   "source": [
    "# To check each cluster centroids\n",
    "centroids = pd.DataFrame(kmeans.cluster_centers_, columns=df_pca.drop(\"Cluster id\", axis=1).columns)\n",
    "centroids"
   ]
  },
  {
   "cell_type": "code",
   "execution_count": 52,
   "metadata": {},
   "outputs": [
    {
     "data": {
      "text/html": [
       "<div>\n",
       "<style scoped>\n",
       "    .dataframe tbody tr th:only-of-type {\n",
       "        vertical-align: middle;\n",
       "    }\n",
       "\n",
       "    .dataframe tbody tr th {\n",
       "        vertical-align: top;\n",
       "    }\n",
       "\n",
       "    .dataframe thead th {\n",
       "        text-align: right;\n",
       "    }\n",
       "</style>\n",
       "<table border=\"1\" class=\"dataframe\">\n",
       "  <thead>\n",
       "    <tr style=\"text-align: right;\">\n",
       "      <th></th>\n",
       "      <th>PC0</th>\n",
       "      <th>PC1</th>\n",
       "      <th>PC2</th>\n",
       "    </tr>\n",
       "  </thead>\n",
       "  <tbody>\n",
       "    <tr>\n",
       "      <th>0</th>\n",
       "      <td>-0.285007</td>\n",
       "      <td>-0.670041</td>\n",
       "      <td>0.077268</td>\n",
       "    </tr>\n",
       "    <tr>\n",
       "      <th>1</th>\n",
       "      <td>-2.409325</td>\n",
       "      <td>0.887647</td>\n",
       "      <td>-0.119878</td>\n",
       "    </tr>\n",
       "    <tr>\n",
       "      <th>2</th>\n",
       "      <td>1.471250</td>\n",
       "      <td>0.560906</td>\n",
       "      <td>-0.056935</td>\n",
       "    </tr>\n",
       "  </tbody>\n",
       "</table>\n",
       "</div>"
      ],
      "text/plain": [
       "        PC0       PC1       PC2\n",
       "0 -0.285007 -0.670041  0.077268\n",
       "1 -2.409325  0.887647 -0.119878\n",
       "2  1.471250  0.560906 -0.056935"
      ]
     },
     "execution_count": 52,
     "metadata": {},
     "output_type": "execute_result"
    }
   ],
   "source": [
    "df_pca.iloc[:, [0,1,2]].groupby(kmeans.labels_).mean()"
   ]
  },
  {
   "cell_type": "markdown",
   "metadata": {},
   "source": [
    "### Cluster parwise distances"
   ]
  },
  {
   "cell_type": "code",
   "execution_count": 53,
   "metadata": {},
   "outputs": [
    {
     "data": {
      "text/html": [
       "<div>\n",
       "<style scoped>\n",
       "    .dataframe tbody tr th:only-of-type {\n",
       "        vertical-align: middle;\n",
       "    }\n",
       "\n",
       "    .dataframe tbody tr th {\n",
       "        vertical-align: top;\n",
       "    }\n",
       "\n",
       "    .dataframe thead th {\n",
       "        text-align: right;\n",
       "    }\n",
       "</style>\n",
       "<table border=\"1\" class=\"dataframe\">\n",
       "  <thead>\n",
       "    <tr style=\"text-align: right;\">\n",
       "      <th></th>\n",
       "      <th>0</th>\n",
       "      <th>1</th>\n",
       "      <th>2</th>\n",
       "    </tr>\n",
       "  </thead>\n",
       "  <tbody>\n",
       "    <tr>\n",
       "      <th>0</th>\n",
       "      <td>0.000000</td>\n",
       "      <td>2.641588</td>\n",
       "      <td>2.148879</td>\n",
       "    </tr>\n",
       "    <tr>\n",
       "      <th>1</th>\n",
       "      <td>2.641588</td>\n",
       "      <td>0.000000</td>\n",
       "      <td>3.894815</td>\n",
       "    </tr>\n",
       "    <tr>\n",
       "      <th>2</th>\n",
       "      <td>2.148879</td>\n",
       "      <td>3.894815</td>\n",
       "      <td>0.000000</td>\n",
       "    </tr>\n",
       "  </tbody>\n",
       "</table>\n",
       "</div>"
      ],
      "text/plain": [
       "          0         1         2\n",
       "0  0.000000  2.641588  2.148879\n",
       "1  2.641588  0.000000  3.894815\n",
       "2  2.148879  3.894815  0.000000"
      ]
     },
     "execution_count": 53,
     "metadata": {},
     "output_type": "execute_result"
    }
   ],
   "source": [
    "# Euclidean distance of each cluster center with every other cluster center\n",
    "from sklearn.metrics import pairwise\n",
    "pd.DataFrame(pairwise.pairwise_distances(kmeans.cluster_centers_, metric= \"euclidean\"))"
   ]
  },
  {
   "cell_type": "code",
   "execution_count": 54,
   "metadata": {},
   "outputs": [],
   "source": [
    "# Visaulizing 3-d clusters\n",
    "fig = pe.scatter_3d(x= df_pca.PC0, y = df_pca.PC1, z = df_pca.PC2, color= kmeans.labels_, hover_name=df_pca.index)"
   ]
  },
  {
   "cell_type": "code",
   "execution_count": 57,
   "metadata": {},
   "outputs": [
    {
     "data": {
      "application/vnd.plotly.v1+json": {
       "config": {
        "plotlyServerURL": "https://plot.ly"
       },
       "data": [
        {
         "hovertemplate": "<b>%{hovertext}</b><br><br>x=%{x}<br>y=%{y}<br>z=%{z}<br>color=%{marker.color}<extra></extra>",
         "hovertext": [
          "Finland",
          "Denmark",
          "Switzerland",
          "Iceland",
          "Netherlands",
          "Norway",
          "Sweden",
          "Luxembourg",
          "New Zealand",
          "Austria",
          "Australia",
          "Israel",
          "Germany",
          "Canada",
          "Ireland",
          "Costa Rica",
          "United Kingdom",
          "Czech Republic",
          "United States",
          "Belgium",
          "France",
          "Bahrain",
          "Malta",
          "Taiwan Province of China",
          "United Arab Emirates",
          "Saudi Arabia",
          "Spain",
          "Italy",
          "Slovenia",
          "Guatemala",
          "Uruguay",
          "Singapore",
          "Kosovo",
          "Slovakia",
          "Brazil",
          "Mexico",
          "Jamaica",
          "Lithuania",
          "Cyprus",
          "Estonia",
          "Panama",
          "Uzbekistan",
          "Chile",
          "Poland",
          "Kazakhstan",
          "Romania",
          "Kuwait",
          "Serbia",
          "El Salvador",
          "Mauritius",
          "Latvia",
          "Colombia",
          "Hungary",
          "Thailand",
          "Nicaragua",
          "Japan",
          "Argentina",
          "Portugal",
          "Honduras",
          "Croatia",
          "Philippines",
          "South Korea",
          "Peru",
          "Bosnia and Herzegovina",
          "Moldova",
          "Ecuador",
          "Kyrgyzstan",
          "Greece",
          "Bolivia",
          "Mongolia",
          "Paraguay",
          "Montenegro",
          "Dominican Republic",
          "North Cyprus",
          "Belarus",
          "Russia",
          "Hong Kong S.A.R. of China",
          "Tajikistan",
          "Vietnam",
          "Libya",
          "Malaysia",
          "Indonesia",
          "Congo (Brazzaville)",
          "China",
          "Ivory Coast",
          "Armenia",
          "Nepal",
          "Bulgaria",
          "Maldives",
          "Azerbaijan",
          "Cameroon",
          "Senegal",
          "Albania",
          "North Macedonia",
          "Ghana",
          "Niger",
          "Turkmenistan",
          "Gambia",
          "Benin",
          "Laos",
          "Bangladesh",
          "Guinea",
          "South Africa",
          "Turkey",
          "Pakistan",
          "Morocco",
          "Venezuela",
          "Georgia",
          "Algeria",
          "Ukraine",
          "Iraq",
          "Gabon",
          "Burkina Faso",
          "Cambodia",
          "Mozambique",
          "Nigeria",
          "Mali",
          "Iran",
          "Uganda",
          "Liberia",
          "Kenya",
          "Tunisia",
          "Lebanon",
          "Namibia",
          "Palestinian Territories",
          "Myanmar",
          "Jordan",
          "Chad",
          "Sri Lanka",
          "Swaziland",
          "Comoros",
          "Egypt",
          "Ethiopia",
          "Mauritania",
          "Madagascar",
          "Togo",
          "Zambia",
          "Sierra Leone",
          "India",
          "Burundi",
          "Yemen",
          "Tanzania",
          "Haiti",
          "Malawi",
          "Lesotho",
          "Botswana",
          "Rwanda",
          "Zimbabwe",
          "Afghanistan"
         ],
         "legendgroup": "",
         "marker": {
          "color": [
           1,
           1,
           1,
           1,
           1,
           1,
           1,
           1,
           1,
           1,
           1,
           0,
           1,
           1,
           1,
           0,
           1,
           0,
           0,
           0,
           1,
           0,
           1,
           0,
           1,
           0,
           0,
           0,
           0,
           0,
           1,
           1,
           0,
           0,
           0,
           0,
           0,
           0,
           0,
           1,
           0,
           1,
           0,
           0,
           0,
           0,
           0,
           0,
           0,
           0,
           0,
           0,
           0,
           0,
           0,
           0,
           0,
           0,
           0,
           0,
           0,
           0,
           0,
           0,
           0,
           0,
           0,
           0,
           0,
           0,
           0,
           0,
           0,
           0,
           0,
           0,
           1,
           0,
           0,
           0,
           0,
           2,
           2,
           0,
           2,
           0,
           2,
           0,
           0,
           0,
           2,
           2,
           0,
           0,
           2,
           2,
           0,
           2,
           2,
           2,
           2,
           2,
           0,
           0,
           2,
           2,
           0,
           2,
           2,
           0,
           2,
           0,
           2,
           2,
           2,
           2,
           2,
           2,
           2,
           2,
           2,
           2,
           0,
           2,
           2,
           2,
           0,
           2,
           0,
           2,
           2,
           2,
           2,
           2,
           2,
           2,
           2,
           2,
           2,
           2,
           2,
           2,
           2,
           2,
           2,
           2,
           2,
           2,
           2
          ],
          "coloraxis": "coloraxis",
          "line": {
           "color": "DarkSlateGrey",
           "width": 0.4
          },
          "size": 1,
          "symbol": "circle"
         },
         "mode": "markers",
         "name": "",
         "scene": "scene",
         "showlegend": false,
         "type": "scatter3d",
         "x": [
          -3.388624262658012,
          -3.3790340073708647,
          -3.096782730149468,
          -2.2151283751322017,
          -2.808974703797762,
          -3.1499885177491773,
          -3.0776873106842766,
          -2.693310203514826,
          -3.0224782350043427,
          -2.390745997246474,
          -2.48719813665774,
          -1.4006417332488903,
          -2.2146992184453906,
          -2.4875458109661714,
          -2.6408623872392516,
          -1.1771169365086351,
          -2.193176790080242,
          -1.087207169218507,
          -1.3622880601338925,
          -1.4361093287838411,
          -1.803722199405937,
          -1.2213456814910868,
          -1.6746346221450514,
          -1.043985297792801,
          -1.48351551301777,
          -1.1410993246540309,
          -1.1457030755920978,
          -0.5318350936013679,
          -1.283974430456763,
          -0.3539762860564065,
          -1.4357296233032444,
          -3.3412254657822977,
          0.08744031826331154,
          -0.4335036103394117,
          -0.49824430708788464,
          -0.5165560739770431,
          -0.30675260515769737,
          -0.6068295622171005,
          -0.43654383675550273,
          -1.6680736479315224,
          -0.6583344473472739,
          -1.2863843518388032,
          -0.3616561477438299,
          -0.902847802921757,
          -0.83704696696333,
          -0.10876069145949031,
          -0.7572973801697667,
          -0.2565592935299376,
          -0.3347332270040549,
          -0.6022123845092121,
          -0.3807297661944142,
          -0.2133881633441181,
          -0.35127998210794714,
          -0.28489363086293007,
          -0.4839394987329856,
          -1.2059741375040023,
          -0.4381063910468347,
          -0.6324057559462275,
          -0.0009038357951483356,
          -0.19068245360541883,
          -0.20066060141418066,
          -0.41487191755361486,
          0.04933323503314607,
          0.2978853739946454,
          0.18527910546531853,
          -0.05247156546268091,
          0.06877320326277861,
          0.1139072399775054,
          0.16754405323671,
          0.2500596191392214,
          -0.07949869649553296,
          0.008873381141426512,
          -0.4058243088656136,
          -0.8627281051317576,
          -0.33687504698145204,
          0.10153978220298987,
          -1.4749517325943247,
          -0.33194910199908845,
          -0.237904899922895,
          -0.025265212947491362,
          -0.1354156266143875,
          0.3950966122333785,
          1.314969058956649,
          -0.33758315411446876,
          1.5833865566602907,
          -0.2928010334453977,
          0.5059394968613886,
          0.10608201515892694,
          -0.33999071260615393,
          -0.5954438830879379,
          1.5530661001423216,
          1.2674197222344439,
          0.7142058018296646,
          0.634224331945416,
          1.12415356479449,
          1.408092979088862,
          0.014959878277357584,
          1.4979385058779051,
          1.6103431464962683,
          0.31832457799890634,
          0.39029608523189646,
          1.6691693098470752,
          0.8372307539799683,
          0.5109749355102232,
          1.3728222451003544,
          1.1410835547228217,
          0.7158861279348275,
          0.422843033294387,
          0.9546234564456794,
          0.6699506159920277,
          1.3427604773346533,
          0.9114706019133554,
          1.655280851305073,
          0.6308174063527369,
          0.9996732699584424,
          1.7415909150099866,
          1.8261294637830578,
          0.8347173977467941,
          1.598487010583416,
          1.749778915493266,
          1.3113832440615605,
          1.2223428260506861,
          1.0944303541889264,
          1.1565497214637062,
          1.13575586276795,
          0.5459062590470452,
          0.49297872712193563,
          2.649083317876709,
          0.5111788447871669,
          1.443226783097075,
          2.1610938473580297,
          0.9836358172321329,
          1.3140938792504822,
          1.488950933599186,
          2.1159793459870535,
          2.425290992656922,
          1.6641857453180477,
          2.5007203600325214,
          1.3496683450491613,
          2.5183298174909794,
          1.8552537999951235,
          1.0747176221015537,
          2.5561739164253408,
          2.181617089955767,
          2.349498078040967,
          1.0561401359534421,
          0.2708076748389533,
          2.1074200094394078,
          4.1583846402182445
         ],
         "y": [
          1.3399487272540105,
          1.6513155459900104,
          1.1245149421339677,
          -0.1461188220761314,
          1.3525158816485665,
          1.4235279606120745,
          1.6138983964663944,
          0.6604590076277842,
          1.6840189594681092,
          0.4661136037955963,
          0.8989196043234905,
          -0.7250842588691078,
          0.556396733026886,
          0.8906821021444645,
          0.9758302285330049,
          -0.9970990574118428,
          1.0281137100294588,
          -1.6572144759866865,
          -0.1964795610321994,
          -0.6205800364788733,
          -0.35630210489725184,
          -0.09441534407055457,
          0.09600341391343631,
          -0.648083574565939,
          0.4707532733318689,
          -0.5137586984617591,
          -0.9252257244515751,
          -1.3561240913036585,
          -1.05560700237245,
          -0.21084288992670358,
          -0.006339088601355844,
          1.972445066277985,
          -0.15766403520335703,
          -1.5621190861929048,
          -0.5080108737574239,
          -0.7922383493959818,
          -1.0963578333828248,
          -1.3662500018207493,
          -0.8666463582304051,
          0.16621447661062555,
          -1.2704440128164627,
          1.5431252997011113,
          -0.9097491888954187,
          -0.7941116320990906,
          -0.5438379505580881,
          -1.556275849717255,
          -0.509436431341281,
          -0.7086846827993412,
          0.0825947876329941,
          -0.6386679300039219,
          -1.1246843138805733,
          -0.9116903699171799,
          -1.523623569303241,
          -0.22551623534559315,
          0.2678079064795686,
          -0.7291900113923658,
          -1.1661270963049273,
          -1.5791636381764624,
          -0.05999858011119249,
          -1.6211784281041726,
          -0.12606951068552055,
          -0.5658516674965978,
          -1.1191563728879326,
          -0.8318462888381728,
          -1.0474889724652758,
          -0.8015544712576766,
          -0.4096559056595693,
          -1.466586109678284,
          -0.48980569351967723,
          -0.4934092503829754,
          -0.6827031910491023,
          -0.6847574614067377,
          -0.3213896386101464,
          0.14894283166302374,
          -0.33602786541252955,
          -1.0220530020460559,
          1.0098540819654227,
          0.7404872301586264,
          -0.45253080437238147,
          0.09183572033778051,
          -0.20047243456204866,
          0.8600049310508082,
          0.4345847277060755,
          -0.44475419670773453,
          0.4917738219818428,
          0.08188858903690904,
          0.6647645508516382,
          -1.3699621363490493,
          -0.6144983084746852,
          0.4107296694971144,
          0.2049386630271896,
          0.0834831402067684,
          -0.5689598429061223,
          -0.620314987574357,
          0.31610503742961066,
          1.153494681457932,
          -0.21853806472775977,
          1.6038829271382287,
          1.318772211110084,
          1.1031924023073345,
          0.6081144161220916,
          0.8562933759404114,
          -0.5621768439805027,
          -0.733974252691783,
          0.622226438542849,
          -0.1999428840724553,
          -0.9179175809249694,
          0.13729646434025422,
          -0.3514820208277176,
          -0.9411923024636843,
          -0.4812285556200883,
          -0.7026120817697251,
          0.6704431086874642,
          0.10640161125412585,
          1.1238976168112134,
          0.11575854567812328,
          0.22152411099833932,
          0.7261705178422256,
          0.28748084703377125,
          0.32484661090372796,
          0.8597668647505423,
          -0.791997934076291,
          -1.0721694981546033,
          -0.5632664567235899,
          -0.5802498665353768,
          1.9585852413460565,
          -0.08936272612025356,
          0.7802928111603289,
          -0.2773402644260803,
          0.1479115170162704,
          0.6853044124802423,
          -0.3697973350753806,
          0.618735123232536,
          0.05982180222817538,
          0.3091833913262766,
          0.9215751643889418,
          0.48456366648064336,
          0.6745811071109259,
          0.8953130384634977,
          1.796557576905557,
          -0.2042427851314325,
          1.8620910679349525,
          2.0979149837946824,
          1.3178287965157376,
          -0.32164655170990025,
          -0.47842689656914134,
          3.6082896088983962,
          0.187592937393833,
          0.20805658368967767
         ],
         "z": [
          -1.0929964237677274,
          -0.6712620258371892,
          -0.48235007680305997,
          1.1819674967540394,
          0.19342516254206413,
          -0.1904458097379874,
          -0.3551342338697399,
          -0.5474854443336414,
          -0.18892846195995308,
          0.03491037824870351,
          0.3795848484367461,
          0.4790021548379217,
          -0.25253610386297914,
          0.025683084742260078,
          -0.22827366702006804,
          0.3178777108359574,
          0.5681981435948277,
          0.030667945865471932,
          0.6401656570881541,
          -0.6028527672427605,
          -0.6730673278689702,
          0.7798148469312752,
          0.8212213166606372,
          -0.11096732390943358,
          0.3545091551030084,
          -0.28983846696694265,
          -0.13072330664115955,
          -0.028185511771678134,
          0.4198033374382021,
          0.40253719200556054,
          -0.24364893250129582,
          -1.3617657126766334,
          1.8011590347747128,
          0.1888691338458303,
          0.037252536200777606,
          -0.07721123455449362,
          0.32812045704183207,
          -0.3233243384179321,
          0.2183091032658397,
          -0.4555144810283835,
          0.0646095235573851,
          1.252557052263901,
          0.14529423471992947,
          -0.3263156567646938,
          0.1446026148686251,
          -0.03591263212838999,
          -0.10148884790736414,
          0.40944113590461906,
          -0.24230273139625932,
          0.3160269610332578,
          -0.3928879354090395,
          0.022733060783252202,
          -0.18075241282323914,
          1.889420428926392,
          0.17152112468070294,
          -1.1106358311529343,
          -0.1616865160373353,
          -0.16085397124798706,
          0.7731708605689444,
          0.19633162656638084,
          0.09759982928281351,
          -0.5994200743493752,
          0.019090185291952517,
          0.8959611162699299,
          0.40603348409543727,
          0.029867701070042114,
          1.4491675397241688,
          -1.2804914148208744,
          0.28799402787257544,
          0.8062349068499448,
          0.8601222890751041,
          -0.017668078796339772,
          -0.2944141088065438,
          -0.24009611503254907,
          -1.1209160470687116,
          -0.14043154850699877,
          -0.8258461022382384,
          -0.43893553268371666,
          0.23570196549580416,
          -0.466795414758721,
          1.008639445314999,
          2.634439887574533,
          -0.5105011539450258,
          -0.2157512069258452,
          -0.043802156392439534,
          -0.8140738304759101,
          0.5740147971579094,
          0.3101907647933838,
          0.5817263775767753,
          -1.338602502696307,
          0.28394972634794424,
          -0.22617893254340513,
          0.19649484025229963,
          0.5162834961234967,
          0.7984292299652189,
          -0.041387374890664734,
          1.8485285293576115,
          1.39578085981889,
          -0.6398012821637384,
          0.5010710149665633,
          -0.17899761800297215,
          0.1528690612795302,
          0.10159314306941807,
          -0.911119734096754,
          0.25522302933265256,
          -1.0035441535956895,
          -0.7219357977852953,
          -1.2709154141196803,
          -0.9190882523262246,
          0.4030266351021741,
          -0.2288672130742192,
          -0.6164432697851207,
          -0.2572302089890984,
          0.79716320442837,
          0.347466155423833,
          0.42208812799775886,
          -0.08566280141342143,
          0.20764379550269332,
          0.6407258628856479,
          0.3583972789534319,
          1.1838961754661823,
          -0.8602358314397821,
          -0.44401610678012177,
          -0.38483071307399624,
          -0.663094473976018,
          1.8778313909935456,
          -0.881387120355671,
          -0.24267340076315186,
          0.7052563957612821,
          -1.0992193912652015,
          -0.2976787400830673,
          -0.7185667039099269,
          0.2661018559835377,
          -0.9374925789062307,
          -0.487679843648041,
          -0.39465995001033444,
          0.3431112691745934,
          0.3316993538095589,
          0.3820288318588339,
          -1.1197869857904694,
          -0.7991600263289498,
          0.20131815660661947,
          0.777507225044507,
          -0.211606554920923,
          -0.203444308943934,
          -0.812774836324658,
          -1.4055811184524671,
          -0.347254219750242,
          -1.3016478523924409
         ]
        }
       ],
       "layout": {
        "coloraxis": {
         "colorbar": {
          "title": {
           "text": "color"
          }
         },
         "colorscale": [
          [
           0,
           "#0d0887"
          ],
          [
           0.1111111111111111,
           "#46039f"
          ],
          [
           0.2222222222222222,
           "#7201a8"
          ],
          [
           0.3333333333333333,
           "#9c179e"
          ],
          [
           0.4444444444444444,
           "#bd3786"
          ],
          [
           0.5555555555555556,
           "#d8576b"
          ],
          [
           0.6666666666666666,
           "#ed7953"
          ],
          [
           0.7777777777777778,
           "#fb9f3a"
          ],
          [
           0.8888888888888888,
           "#fdca26"
          ],
          [
           1,
           "#f0f921"
          ]
         ]
        },
        "legend": {
         "tracegroupgap": 0
        },
        "margin": {
         "t": 60
        },
        "scene": {
         "domain": {
          "x": [
           0,
           1
          ],
          "y": [
           0,
           1
          ]
         },
         "xaxis": {
          "title": {
           "text": "x"
          }
         },
         "yaxis": {
          "title": {
           "text": "y"
          }
         },
         "zaxis": {
          "title": {
           "text": "z"
          }
         }
        },
        "template": {
         "data": {
          "bar": [
           {
            "error_x": {
             "color": "#2a3f5f"
            },
            "error_y": {
             "color": "#2a3f5f"
            },
            "marker": {
             "line": {
              "color": "#E5ECF6",
              "width": 0.5
             }
            },
            "type": "bar"
           }
          ],
          "barpolar": [
           {
            "marker": {
             "line": {
              "color": "#E5ECF6",
              "width": 0.5
             }
            },
            "type": "barpolar"
           }
          ],
          "carpet": [
           {
            "aaxis": {
             "endlinecolor": "#2a3f5f",
             "gridcolor": "white",
             "linecolor": "white",
             "minorgridcolor": "white",
             "startlinecolor": "#2a3f5f"
            },
            "baxis": {
             "endlinecolor": "#2a3f5f",
             "gridcolor": "white",
             "linecolor": "white",
             "minorgridcolor": "white",
             "startlinecolor": "#2a3f5f"
            },
            "type": "carpet"
           }
          ],
          "choropleth": [
           {
            "colorbar": {
             "outlinewidth": 0,
             "ticks": ""
            },
            "type": "choropleth"
           }
          ],
          "contour": [
           {
            "colorbar": {
             "outlinewidth": 0,
             "ticks": ""
            },
            "colorscale": [
             [
              0,
              "#0d0887"
             ],
             [
              0.1111111111111111,
              "#46039f"
             ],
             [
              0.2222222222222222,
              "#7201a8"
             ],
             [
              0.3333333333333333,
              "#9c179e"
             ],
             [
              0.4444444444444444,
              "#bd3786"
             ],
             [
              0.5555555555555556,
              "#d8576b"
             ],
             [
              0.6666666666666666,
              "#ed7953"
             ],
             [
              0.7777777777777778,
              "#fb9f3a"
             ],
             [
              0.8888888888888888,
              "#fdca26"
             ],
             [
              1,
              "#f0f921"
             ]
            ],
            "type": "contour"
           }
          ],
          "contourcarpet": [
           {
            "colorbar": {
             "outlinewidth": 0,
             "ticks": ""
            },
            "type": "contourcarpet"
           }
          ],
          "heatmap": [
           {
            "colorbar": {
             "outlinewidth": 0,
             "ticks": ""
            },
            "colorscale": [
             [
              0,
              "#0d0887"
             ],
             [
              0.1111111111111111,
              "#46039f"
             ],
             [
              0.2222222222222222,
              "#7201a8"
             ],
             [
              0.3333333333333333,
              "#9c179e"
             ],
             [
              0.4444444444444444,
              "#bd3786"
             ],
             [
              0.5555555555555556,
              "#d8576b"
             ],
             [
              0.6666666666666666,
              "#ed7953"
             ],
             [
              0.7777777777777778,
              "#fb9f3a"
             ],
             [
              0.8888888888888888,
              "#fdca26"
             ],
             [
              1,
              "#f0f921"
             ]
            ],
            "type": "heatmap"
           }
          ],
          "heatmapgl": [
           {
            "colorbar": {
             "outlinewidth": 0,
             "ticks": ""
            },
            "colorscale": [
             [
              0,
              "#0d0887"
             ],
             [
              0.1111111111111111,
              "#46039f"
             ],
             [
              0.2222222222222222,
              "#7201a8"
             ],
             [
              0.3333333333333333,
              "#9c179e"
             ],
             [
              0.4444444444444444,
              "#bd3786"
             ],
             [
              0.5555555555555556,
              "#d8576b"
             ],
             [
              0.6666666666666666,
              "#ed7953"
             ],
             [
              0.7777777777777778,
              "#fb9f3a"
             ],
             [
              0.8888888888888888,
              "#fdca26"
             ],
             [
              1,
              "#f0f921"
             ]
            ],
            "type": "heatmapgl"
           }
          ],
          "histogram": [
           {
            "marker": {
             "colorbar": {
              "outlinewidth": 0,
              "ticks": ""
             }
            },
            "type": "histogram"
           }
          ],
          "histogram2d": [
           {
            "colorbar": {
             "outlinewidth": 0,
             "ticks": ""
            },
            "colorscale": [
             [
              0,
              "#0d0887"
             ],
             [
              0.1111111111111111,
              "#46039f"
             ],
             [
              0.2222222222222222,
              "#7201a8"
             ],
             [
              0.3333333333333333,
              "#9c179e"
             ],
             [
              0.4444444444444444,
              "#bd3786"
             ],
             [
              0.5555555555555556,
              "#d8576b"
             ],
             [
              0.6666666666666666,
              "#ed7953"
             ],
             [
              0.7777777777777778,
              "#fb9f3a"
             ],
             [
              0.8888888888888888,
              "#fdca26"
             ],
             [
              1,
              "#f0f921"
             ]
            ],
            "type": "histogram2d"
           }
          ],
          "histogram2dcontour": [
           {
            "colorbar": {
             "outlinewidth": 0,
             "ticks": ""
            },
            "colorscale": [
             [
              0,
              "#0d0887"
             ],
             [
              0.1111111111111111,
              "#46039f"
             ],
             [
              0.2222222222222222,
              "#7201a8"
             ],
             [
              0.3333333333333333,
              "#9c179e"
             ],
             [
              0.4444444444444444,
              "#bd3786"
             ],
             [
              0.5555555555555556,
              "#d8576b"
             ],
             [
              0.6666666666666666,
              "#ed7953"
             ],
             [
              0.7777777777777778,
              "#fb9f3a"
             ],
             [
              0.8888888888888888,
              "#fdca26"
             ],
             [
              1,
              "#f0f921"
             ]
            ],
            "type": "histogram2dcontour"
           }
          ],
          "mesh3d": [
           {
            "colorbar": {
             "outlinewidth": 0,
             "ticks": ""
            },
            "type": "mesh3d"
           }
          ],
          "parcoords": [
           {
            "line": {
             "colorbar": {
              "outlinewidth": 0,
              "ticks": ""
             }
            },
            "type": "parcoords"
           }
          ],
          "pie": [
           {
            "automargin": true,
            "type": "pie"
           }
          ],
          "scatter": [
           {
            "marker": {
             "colorbar": {
              "outlinewidth": 0,
              "ticks": ""
             }
            },
            "type": "scatter"
           }
          ],
          "scatter3d": [
           {
            "line": {
             "colorbar": {
              "outlinewidth": 0,
              "ticks": ""
             }
            },
            "marker": {
             "colorbar": {
              "outlinewidth": 0,
              "ticks": ""
             }
            },
            "type": "scatter3d"
           }
          ],
          "scattercarpet": [
           {
            "marker": {
             "colorbar": {
              "outlinewidth": 0,
              "ticks": ""
             }
            },
            "type": "scattercarpet"
           }
          ],
          "scattergeo": [
           {
            "marker": {
             "colorbar": {
              "outlinewidth": 0,
              "ticks": ""
             }
            },
            "type": "scattergeo"
           }
          ],
          "scattergl": [
           {
            "marker": {
             "colorbar": {
              "outlinewidth": 0,
              "ticks": ""
             }
            },
            "type": "scattergl"
           }
          ],
          "scattermapbox": [
           {
            "marker": {
             "colorbar": {
              "outlinewidth": 0,
              "ticks": ""
             }
            },
            "type": "scattermapbox"
           }
          ],
          "scatterpolar": [
           {
            "marker": {
             "colorbar": {
              "outlinewidth": 0,
              "ticks": ""
             }
            },
            "type": "scatterpolar"
           }
          ],
          "scatterpolargl": [
           {
            "marker": {
             "colorbar": {
              "outlinewidth": 0,
              "ticks": ""
             }
            },
            "type": "scatterpolargl"
           }
          ],
          "scatterternary": [
           {
            "marker": {
             "colorbar": {
              "outlinewidth": 0,
              "ticks": ""
             }
            },
            "type": "scatterternary"
           }
          ],
          "surface": [
           {
            "colorbar": {
             "outlinewidth": 0,
             "ticks": ""
            },
            "colorscale": [
             [
              0,
              "#0d0887"
             ],
             [
              0.1111111111111111,
              "#46039f"
             ],
             [
              0.2222222222222222,
              "#7201a8"
             ],
             [
              0.3333333333333333,
              "#9c179e"
             ],
             [
              0.4444444444444444,
              "#bd3786"
             ],
             [
              0.5555555555555556,
              "#d8576b"
             ],
             [
              0.6666666666666666,
              "#ed7953"
             ],
             [
              0.7777777777777778,
              "#fb9f3a"
             ],
             [
              0.8888888888888888,
              "#fdca26"
             ],
             [
              1,
              "#f0f921"
             ]
            ],
            "type": "surface"
           }
          ],
          "table": [
           {
            "cells": {
             "fill": {
              "color": "#EBF0F8"
             },
             "line": {
              "color": "white"
             }
            },
            "header": {
             "fill": {
              "color": "#C8D4E3"
             },
             "line": {
              "color": "white"
             }
            },
            "type": "table"
           }
          ]
         },
         "layout": {
          "annotationdefaults": {
           "arrowcolor": "#2a3f5f",
           "arrowhead": 0,
           "arrowwidth": 1
          },
          "autotypenumbers": "strict",
          "coloraxis": {
           "colorbar": {
            "outlinewidth": 0,
            "ticks": ""
           }
          },
          "colorscale": {
           "diverging": [
            [
             0,
             "#8e0152"
            ],
            [
             0.1,
             "#c51b7d"
            ],
            [
             0.2,
             "#de77ae"
            ],
            [
             0.3,
             "#f1b6da"
            ],
            [
             0.4,
             "#fde0ef"
            ],
            [
             0.5,
             "#f7f7f7"
            ],
            [
             0.6,
             "#e6f5d0"
            ],
            [
             0.7,
             "#b8e186"
            ],
            [
             0.8,
             "#7fbc41"
            ],
            [
             0.9,
             "#4d9221"
            ],
            [
             1,
             "#276419"
            ]
           ],
           "sequential": [
            [
             0,
             "#0d0887"
            ],
            [
             0.1111111111111111,
             "#46039f"
            ],
            [
             0.2222222222222222,
             "#7201a8"
            ],
            [
             0.3333333333333333,
             "#9c179e"
            ],
            [
             0.4444444444444444,
             "#bd3786"
            ],
            [
             0.5555555555555556,
             "#d8576b"
            ],
            [
             0.6666666666666666,
             "#ed7953"
            ],
            [
             0.7777777777777778,
             "#fb9f3a"
            ],
            [
             0.8888888888888888,
             "#fdca26"
            ],
            [
             1,
             "#f0f921"
            ]
           ],
           "sequentialminus": [
            [
             0,
             "#0d0887"
            ],
            [
             0.1111111111111111,
             "#46039f"
            ],
            [
             0.2222222222222222,
             "#7201a8"
            ],
            [
             0.3333333333333333,
             "#9c179e"
            ],
            [
             0.4444444444444444,
             "#bd3786"
            ],
            [
             0.5555555555555556,
             "#d8576b"
            ],
            [
             0.6666666666666666,
             "#ed7953"
            ],
            [
             0.7777777777777778,
             "#fb9f3a"
            ],
            [
             0.8888888888888888,
             "#fdca26"
            ],
            [
             1,
             "#f0f921"
            ]
           ]
          },
          "colorway": [
           "#636efa",
           "#EF553B",
           "#00cc96",
           "#ab63fa",
           "#FFA15A",
           "#19d3f3",
           "#FF6692",
           "#B6E880",
           "#FF97FF",
           "#FECB52"
          ],
          "font": {
           "color": "#2a3f5f"
          },
          "geo": {
           "bgcolor": "white",
           "lakecolor": "white",
           "landcolor": "#E5ECF6",
           "showlakes": true,
           "showland": true,
           "subunitcolor": "white"
          },
          "hoverlabel": {
           "align": "left"
          },
          "hovermode": "closest",
          "mapbox": {
           "style": "light"
          },
          "paper_bgcolor": "white",
          "plot_bgcolor": "#E5ECF6",
          "polar": {
           "angularaxis": {
            "gridcolor": "white",
            "linecolor": "white",
            "ticks": ""
           },
           "bgcolor": "#E5ECF6",
           "radialaxis": {
            "gridcolor": "white",
            "linecolor": "white",
            "ticks": ""
           }
          },
          "scene": {
           "xaxis": {
            "backgroundcolor": "#E5ECF6",
            "gridcolor": "white",
            "gridwidth": 2,
            "linecolor": "white",
            "showbackground": true,
            "ticks": "",
            "zerolinecolor": "white"
           },
           "yaxis": {
            "backgroundcolor": "#E5ECF6",
            "gridcolor": "white",
            "gridwidth": 2,
            "linecolor": "white",
            "showbackground": true,
            "ticks": "",
            "zerolinecolor": "white"
           },
           "zaxis": {
            "backgroundcolor": "#E5ECF6",
            "gridcolor": "white",
            "gridwidth": 2,
            "linecolor": "white",
            "showbackground": true,
            "ticks": "",
            "zerolinecolor": "white"
           }
          },
          "shapedefaults": {
           "line": {
            "color": "#2a3f5f"
           }
          },
          "ternary": {
           "aaxis": {
            "gridcolor": "white",
            "linecolor": "white",
            "ticks": ""
           },
           "baxis": {
            "gridcolor": "white",
            "linecolor": "white",
            "ticks": ""
           },
           "bgcolor": "#E5ECF6",
           "caxis": {
            "gridcolor": "white",
            "linecolor": "white",
            "ticks": ""
           }
          },
          "title": {
           "x": 0.05
          },
          "xaxis": {
           "automargin": true,
           "gridcolor": "white",
           "linecolor": "white",
           "ticks": "",
           "title": {
            "standoff": 15
           },
           "zerolinecolor": "white",
           "zerolinewidth": 2
          },
          "yaxis": {
           "automargin": true,
           "gridcolor": "white",
           "linecolor": "white",
           "ticks": "",
           "title": {
            "standoff": 15
           },
           "zerolinecolor": "white",
           "zerolinewidth": 2
          }
         }
        }
       }
      },
      "text/html": [
       "<div>                            <div id=\"5a382731-2820-4513-839e-98d7f6f1b1d1\" class=\"plotly-graph-div\" style=\"height:525px; width:100%;\"></div>            <script type=\"text/javascript\">                require([\"plotly\"], function(Plotly) {                    window.PLOTLYENV=window.PLOTLYENV || {};                                    if (document.getElementById(\"5a382731-2820-4513-839e-98d7f6f1b1d1\")) {                    Plotly.newPlot(                        \"5a382731-2820-4513-839e-98d7f6f1b1d1\",                        [{\"hovertemplate\": \"<b>%{hovertext}</b><br><br>x=%{x}<br>y=%{y}<br>z=%{z}<br>color=%{marker.color}<extra></extra>\", \"hovertext\": [\"Finland\", \"Denmark\", \"Switzerland\", \"Iceland\", \"Netherlands\", \"Norway\", \"Sweden\", \"Luxembourg\", \"New Zealand\", \"Austria\", \"Australia\", \"Israel\", \"Germany\", \"Canada\", \"Ireland\", \"Costa Rica\", \"United Kingdom\", \"Czech Republic\", \"United States\", \"Belgium\", \"France\", \"Bahrain\", \"Malta\", \"Taiwan Province of China\", \"United Arab Emirates\", \"Saudi Arabia\", \"Spain\", \"Italy\", \"Slovenia\", \"Guatemala\", \"Uruguay\", \"Singapore\", \"Kosovo\", \"Slovakia\", \"Brazil\", \"Mexico\", \"Jamaica\", \"Lithuania\", \"Cyprus\", \"Estonia\", \"Panama\", \"Uzbekistan\", \"Chile\", \"Poland\", \"Kazakhstan\", \"Romania\", \"Kuwait\", \"Serbia\", \"El Salvador\", \"Mauritius\", \"Latvia\", \"Colombia\", \"Hungary\", \"Thailand\", \"Nicaragua\", \"Japan\", \"Argentina\", \"Portugal\", \"Honduras\", \"Croatia\", \"Philippines\", \"South Korea\", \"Peru\", \"Bosnia and Herzegovina\", \"Moldova\", \"Ecuador\", \"Kyrgyzstan\", \"Greece\", \"Bolivia\", \"Mongolia\", \"Paraguay\", \"Montenegro\", \"Dominican Republic\", \"North Cyprus\", \"Belarus\", \"Russia\", \"Hong Kong S.A.R. of China\", \"Tajikistan\", \"Vietnam\", \"Libya\", \"Malaysia\", \"Indonesia\", \"Congo (Brazzaville)\", \"China\", \"Ivory Coast\", \"Armenia\", \"Nepal\", \"Bulgaria\", \"Maldives\", \"Azerbaijan\", \"Cameroon\", \"Senegal\", \"Albania\", \"North Macedonia\", \"Ghana\", \"Niger\", \"Turkmenistan\", \"Gambia\", \"Benin\", \"Laos\", \"Bangladesh\", \"Guinea\", \"South Africa\", \"Turkey\", \"Pakistan\", \"Morocco\", \"Venezuela\", \"Georgia\", \"Algeria\", \"Ukraine\", \"Iraq\", \"Gabon\", \"Burkina Faso\", \"Cambodia\", \"Mozambique\", \"Nigeria\", \"Mali\", \"Iran\", \"Uganda\", \"Liberia\", \"Kenya\", \"Tunisia\", \"Lebanon\", \"Namibia\", \"Palestinian Territories\", \"Myanmar\", \"Jordan\", \"Chad\", \"Sri Lanka\", \"Swaziland\", \"Comoros\", \"Egypt\", \"Ethiopia\", \"Mauritania\", \"Madagascar\", \"Togo\", \"Zambia\", \"Sierra Leone\", \"India\", \"Burundi\", \"Yemen\", \"Tanzania\", \"Haiti\", \"Malawi\", \"Lesotho\", \"Botswana\", \"Rwanda\", \"Zimbabwe\", \"Afghanistan\"], \"legendgroup\": \"\", \"marker\": {\"color\": [1, 1, 1, 1, 1, 1, 1, 1, 1, 1, 1, 0, 1, 1, 1, 0, 1, 0, 0, 0, 1, 0, 1, 0, 1, 0, 0, 0, 0, 0, 1, 1, 0, 0, 0, 0, 0, 0, 0, 1, 0, 1, 0, 0, 0, 0, 0, 0, 0, 0, 0, 0, 0, 0, 0, 0, 0, 0, 0, 0, 0, 0, 0, 0, 0, 0, 0, 0, 0, 0, 0, 0, 0, 0, 0, 0, 1, 0, 0, 0, 0, 2, 2, 0, 2, 0, 2, 0, 0, 0, 2, 2, 0, 0, 2, 2, 0, 2, 2, 2, 2, 2, 0, 0, 2, 2, 0, 2, 2, 0, 2, 0, 2, 2, 2, 2, 2, 2, 2, 2, 2, 2, 0, 2, 2, 2, 0, 2, 0, 2, 2, 2, 2, 2, 2, 2, 2, 2, 2, 2, 2, 2, 2, 2, 2, 2, 2, 2, 2], \"coloraxis\": \"coloraxis\", \"line\": {\"color\": \"DarkSlateGrey\", \"width\": 0.4}, \"size\": 1, \"symbol\": \"circle\"}, \"mode\": \"markers\", \"name\": \"\", \"scene\": \"scene\", \"showlegend\": false, \"type\": \"scatter3d\", \"x\": [-3.388624262658012, -3.3790340073708647, -3.096782730149468, -2.2151283751322017, -2.808974703797762, -3.1499885177491773, -3.0776873106842766, -2.693310203514826, -3.0224782350043427, -2.390745997246474, -2.48719813665774, -1.4006417332488903, -2.2146992184453906, -2.4875458109661714, -2.6408623872392516, -1.1771169365086351, -2.193176790080242, -1.087207169218507, -1.3622880601338925, -1.4361093287838411, -1.803722199405937, -1.2213456814910868, -1.6746346221450514, -1.043985297792801, -1.48351551301777, -1.1410993246540309, -1.1457030755920978, -0.5318350936013679, -1.283974430456763, -0.3539762860564065, -1.4357296233032444, -3.3412254657822977, 0.08744031826331154, -0.4335036103394117, -0.49824430708788464, -0.5165560739770431, -0.30675260515769737, -0.6068295622171005, -0.43654383675550273, -1.6680736479315224, -0.6583344473472739, -1.2863843518388032, -0.3616561477438299, -0.902847802921757, -0.83704696696333, -0.10876069145949031, -0.7572973801697667, -0.2565592935299376, -0.3347332270040549, -0.6022123845092121, -0.3807297661944142, -0.2133881633441181, -0.35127998210794714, -0.28489363086293007, -0.4839394987329856, -1.2059741375040023, -0.4381063910468347, -0.6324057559462275, -0.0009038357951483356, -0.19068245360541883, -0.20066060141418066, -0.41487191755361486, 0.04933323503314607, 0.2978853739946454, 0.18527910546531853, -0.05247156546268091, 0.06877320326277861, 0.1139072399775054, 0.16754405323671, 0.2500596191392214, -0.07949869649553296, 0.008873381141426512, -0.4058243088656136, -0.8627281051317576, -0.33687504698145204, 0.10153978220298987, -1.4749517325943247, -0.33194910199908845, -0.237904899922895, -0.025265212947491362, -0.1354156266143875, 0.3950966122333785, 1.314969058956649, -0.33758315411446876, 1.5833865566602907, -0.2928010334453977, 0.5059394968613886, 0.10608201515892694, -0.33999071260615393, -0.5954438830879379, 1.5530661001423216, 1.2674197222344439, 0.7142058018296646, 0.634224331945416, 1.12415356479449, 1.408092979088862, 0.014959878277357584, 1.4979385058779051, 1.6103431464962683, 0.31832457799890634, 0.39029608523189646, 1.6691693098470752, 0.8372307539799683, 0.5109749355102232, 1.3728222451003544, 1.1410835547228217, 0.7158861279348275, 0.422843033294387, 0.9546234564456794, 0.6699506159920277, 1.3427604773346533, 0.9114706019133554, 1.655280851305073, 0.6308174063527369, 0.9996732699584424, 1.7415909150099866, 1.8261294637830578, 0.8347173977467941, 1.598487010583416, 1.749778915493266, 1.3113832440615605, 1.2223428260506861, 1.0944303541889264, 1.1565497214637062, 1.13575586276795, 0.5459062590470452, 0.49297872712193563, 2.649083317876709, 0.5111788447871669, 1.443226783097075, 2.1610938473580297, 0.9836358172321329, 1.3140938792504822, 1.488950933599186, 2.1159793459870535, 2.425290992656922, 1.6641857453180477, 2.5007203600325214, 1.3496683450491613, 2.5183298174909794, 1.8552537999951235, 1.0747176221015537, 2.5561739164253408, 2.181617089955767, 2.349498078040967, 1.0561401359534421, 0.2708076748389533, 2.1074200094394078, 4.1583846402182445], \"y\": [1.3399487272540105, 1.6513155459900104, 1.1245149421339677, -0.1461188220761314, 1.3525158816485665, 1.4235279606120745, 1.6138983964663944, 0.6604590076277842, 1.6840189594681092, 0.4661136037955963, 0.8989196043234905, -0.7250842588691078, 0.556396733026886, 0.8906821021444645, 0.9758302285330049, -0.9970990574118428, 1.0281137100294588, -1.6572144759866865, -0.1964795610321994, -0.6205800364788733, -0.35630210489725184, -0.09441534407055457, 0.09600341391343631, -0.648083574565939, 0.4707532733318689, -0.5137586984617591, -0.9252257244515751, -1.3561240913036585, -1.05560700237245, -0.21084288992670358, -0.006339088601355844, 1.972445066277985, -0.15766403520335703, -1.5621190861929048, -0.5080108737574239, -0.7922383493959818, -1.0963578333828248, -1.3662500018207493, -0.8666463582304051, 0.16621447661062555, -1.2704440128164627, 1.5431252997011113, -0.9097491888954187, -0.7941116320990906, -0.5438379505580881, -1.556275849717255, -0.509436431341281, -0.7086846827993412, 0.0825947876329941, -0.6386679300039219, -1.1246843138805733, -0.9116903699171799, -1.523623569303241, -0.22551623534559315, 0.2678079064795686, -0.7291900113923658, -1.1661270963049273, -1.5791636381764624, -0.05999858011119249, -1.6211784281041726, -0.12606951068552055, -0.5658516674965978, -1.1191563728879326, -0.8318462888381728, -1.0474889724652758, -0.8015544712576766, -0.4096559056595693, -1.466586109678284, -0.48980569351967723, -0.4934092503829754, -0.6827031910491023, -0.6847574614067377, -0.3213896386101464, 0.14894283166302374, -0.33602786541252955, -1.0220530020460559, 1.0098540819654227, 0.7404872301586264, -0.45253080437238147, 0.09183572033778051, -0.20047243456204866, 0.8600049310508082, 0.4345847277060755, -0.44475419670773453, 0.4917738219818428, 0.08188858903690904, 0.6647645508516382, -1.3699621363490493, -0.6144983084746852, 0.4107296694971144, 0.2049386630271896, 0.0834831402067684, -0.5689598429061223, -0.620314987574357, 0.31610503742961066, 1.153494681457932, -0.21853806472775977, 1.6038829271382287, 1.318772211110084, 1.1031924023073345, 0.6081144161220916, 0.8562933759404114, -0.5621768439805027, -0.733974252691783, 0.622226438542849, -0.1999428840724553, -0.9179175809249694, 0.13729646434025422, -0.3514820208277176, -0.9411923024636843, -0.4812285556200883, -0.7026120817697251, 0.6704431086874642, 0.10640161125412585, 1.1238976168112134, 0.11575854567812328, 0.22152411099833932, 0.7261705178422256, 0.28748084703377125, 0.32484661090372796, 0.8597668647505423, -0.791997934076291, -1.0721694981546033, -0.5632664567235899, -0.5802498665353768, 1.9585852413460565, -0.08936272612025356, 0.7802928111603289, -0.2773402644260803, 0.1479115170162704, 0.6853044124802423, -0.3697973350753806, 0.618735123232536, 0.05982180222817538, 0.3091833913262766, 0.9215751643889418, 0.48456366648064336, 0.6745811071109259, 0.8953130384634977, 1.796557576905557, -0.2042427851314325, 1.8620910679349525, 2.0979149837946824, 1.3178287965157376, -0.32164655170990025, -0.47842689656914134, 3.6082896088983962, 0.187592937393833, 0.20805658368967767], \"z\": [-1.0929964237677274, -0.6712620258371892, -0.48235007680305997, 1.1819674967540394, 0.19342516254206413, -0.1904458097379874, -0.3551342338697399, -0.5474854443336414, -0.18892846195995308, 0.03491037824870351, 0.3795848484367461, 0.4790021548379217, -0.25253610386297914, 0.025683084742260078, -0.22827366702006804, 0.3178777108359574, 0.5681981435948277, 0.030667945865471932, 0.6401656570881541, -0.6028527672427605, -0.6730673278689702, 0.7798148469312752, 0.8212213166606372, -0.11096732390943358, 0.3545091551030084, -0.28983846696694265, -0.13072330664115955, -0.028185511771678134, 0.4198033374382021, 0.40253719200556054, -0.24364893250129582, -1.3617657126766334, 1.8011590347747128, 0.1888691338458303, 0.037252536200777606, -0.07721123455449362, 0.32812045704183207, -0.3233243384179321, 0.2183091032658397, -0.4555144810283835, 0.0646095235573851, 1.252557052263901, 0.14529423471992947, -0.3263156567646938, 0.1446026148686251, -0.03591263212838999, -0.10148884790736414, 0.40944113590461906, -0.24230273139625932, 0.3160269610332578, -0.3928879354090395, 0.022733060783252202, -0.18075241282323914, 1.889420428926392, 0.17152112468070294, -1.1106358311529343, -0.1616865160373353, -0.16085397124798706, 0.7731708605689444, 0.19633162656638084, 0.09759982928281351, -0.5994200743493752, 0.019090185291952517, 0.8959611162699299, 0.40603348409543727, 0.029867701070042114, 1.4491675397241688, -1.2804914148208744, 0.28799402787257544, 0.8062349068499448, 0.8601222890751041, -0.017668078796339772, -0.2944141088065438, -0.24009611503254907, -1.1209160470687116, -0.14043154850699877, -0.8258461022382384, -0.43893553268371666, 0.23570196549580416, -0.466795414758721, 1.008639445314999, 2.634439887574533, -0.5105011539450258, -0.2157512069258452, -0.043802156392439534, -0.8140738304759101, 0.5740147971579094, 0.3101907647933838, 0.5817263775767753, -1.338602502696307, 0.28394972634794424, -0.22617893254340513, 0.19649484025229963, 0.5162834961234967, 0.7984292299652189, -0.041387374890664734, 1.8485285293576115, 1.39578085981889, -0.6398012821637384, 0.5010710149665633, -0.17899761800297215, 0.1528690612795302, 0.10159314306941807, -0.911119734096754, 0.25522302933265256, -1.0035441535956895, -0.7219357977852953, -1.2709154141196803, -0.9190882523262246, 0.4030266351021741, -0.2288672130742192, -0.6164432697851207, -0.2572302089890984, 0.79716320442837, 0.347466155423833, 0.42208812799775886, -0.08566280141342143, 0.20764379550269332, 0.6407258628856479, 0.3583972789534319, 1.1838961754661823, -0.8602358314397821, -0.44401610678012177, -0.38483071307399624, -0.663094473976018, 1.8778313909935456, -0.881387120355671, -0.24267340076315186, 0.7052563957612821, -1.0992193912652015, -0.2976787400830673, -0.7185667039099269, 0.2661018559835377, -0.9374925789062307, -0.487679843648041, -0.39465995001033444, 0.3431112691745934, 0.3316993538095589, 0.3820288318588339, -1.1197869857904694, -0.7991600263289498, 0.20131815660661947, 0.777507225044507, -0.211606554920923, -0.203444308943934, -0.812774836324658, -1.4055811184524671, -0.347254219750242, -1.3016478523924409]}],                        {\"coloraxis\": {\"colorbar\": {\"title\": {\"text\": \"color\"}}, \"colorscale\": [[0.0, \"#0d0887\"], [0.1111111111111111, \"#46039f\"], [0.2222222222222222, \"#7201a8\"], [0.3333333333333333, \"#9c179e\"], [0.4444444444444444, \"#bd3786\"], [0.5555555555555556, \"#d8576b\"], [0.6666666666666666, \"#ed7953\"], [0.7777777777777778, \"#fb9f3a\"], [0.8888888888888888, \"#fdca26\"], [1.0, \"#f0f921\"]]}, \"legend\": {\"tracegroupgap\": 0}, \"margin\": {\"t\": 60}, \"scene\": {\"domain\": {\"x\": [0.0, 1.0], \"y\": [0.0, 1.0]}, \"xaxis\": {\"title\": {\"text\": \"x\"}}, \"yaxis\": {\"title\": {\"text\": \"y\"}}, \"zaxis\": {\"title\": {\"text\": \"z\"}}}, \"template\": {\"data\": {\"bar\": [{\"error_x\": {\"color\": \"#2a3f5f\"}, \"error_y\": {\"color\": \"#2a3f5f\"}, \"marker\": {\"line\": {\"color\": \"#E5ECF6\", \"width\": 0.5}}, \"type\": \"bar\"}], \"barpolar\": [{\"marker\": {\"line\": {\"color\": \"#E5ECF6\", \"width\": 0.5}}, \"type\": \"barpolar\"}], \"carpet\": [{\"aaxis\": {\"endlinecolor\": \"#2a3f5f\", \"gridcolor\": \"white\", \"linecolor\": \"white\", \"minorgridcolor\": \"white\", \"startlinecolor\": \"#2a3f5f\"}, \"baxis\": {\"endlinecolor\": \"#2a3f5f\", \"gridcolor\": \"white\", \"linecolor\": \"white\", \"minorgridcolor\": \"white\", \"startlinecolor\": \"#2a3f5f\"}, \"type\": \"carpet\"}], \"choropleth\": [{\"colorbar\": {\"outlinewidth\": 0, \"ticks\": \"\"}, \"type\": \"choropleth\"}], \"contour\": [{\"colorbar\": {\"outlinewidth\": 0, \"ticks\": \"\"}, \"colorscale\": [[0.0, \"#0d0887\"], [0.1111111111111111, \"#46039f\"], [0.2222222222222222, \"#7201a8\"], [0.3333333333333333, \"#9c179e\"], [0.4444444444444444, \"#bd3786\"], [0.5555555555555556, \"#d8576b\"], [0.6666666666666666, \"#ed7953\"], [0.7777777777777778, \"#fb9f3a\"], [0.8888888888888888, \"#fdca26\"], [1.0, \"#f0f921\"]], \"type\": \"contour\"}], \"contourcarpet\": [{\"colorbar\": {\"outlinewidth\": 0, \"ticks\": \"\"}, \"type\": \"contourcarpet\"}], \"heatmap\": [{\"colorbar\": {\"outlinewidth\": 0, \"ticks\": \"\"}, \"colorscale\": [[0.0, \"#0d0887\"], [0.1111111111111111, \"#46039f\"], [0.2222222222222222, \"#7201a8\"], [0.3333333333333333, \"#9c179e\"], [0.4444444444444444, \"#bd3786\"], [0.5555555555555556, \"#d8576b\"], [0.6666666666666666, \"#ed7953\"], [0.7777777777777778, \"#fb9f3a\"], [0.8888888888888888, \"#fdca26\"], [1.0, \"#f0f921\"]], \"type\": \"heatmap\"}], \"heatmapgl\": [{\"colorbar\": {\"outlinewidth\": 0, \"ticks\": \"\"}, \"colorscale\": [[0.0, \"#0d0887\"], [0.1111111111111111, \"#46039f\"], [0.2222222222222222, \"#7201a8\"], [0.3333333333333333, \"#9c179e\"], [0.4444444444444444, \"#bd3786\"], [0.5555555555555556, \"#d8576b\"], [0.6666666666666666, \"#ed7953\"], [0.7777777777777778, \"#fb9f3a\"], [0.8888888888888888, \"#fdca26\"], [1.0, \"#f0f921\"]], \"type\": \"heatmapgl\"}], \"histogram\": [{\"marker\": {\"colorbar\": {\"outlinewidth\": 0, \"ticks\": \"\"}}, \"type\": \"histogram\"}], \"histogram2d\": [{\"colorbar\": {\"outlinewidth\": 0, \"ticks\": \"\"}, \"colorscale\": [[0.0, \"#0d0887\"], [0.1111111111111111, \"#46039f\"], [0.2222222222222222, \"#7201a8\"], [0.3333333333333333, \"#9c179e\"], [0.4444444444444444, \"#bd3786\"], [0.5555555555555556, \"#d8576b\"], [0.6666666666666666, \"#ed7953\"], [0.7777777777777778, \"#fb9f3a\"], [0.8888888888888888, \"#fdca26\"], [1.0, \"#f0f921\"]], \"type\": \"histogram2d\"}], \"histogram2dcontour\": [{\"colorbar\": {\"outlinewidth\": 0, \"ticks\": \"\"}, \"colorscale\": [[0.0, \"#0d0887\"], [0.1111111111111111, \"#46039f\"], [0.2222222222222222, \"#7201a8\"], [0.3333333333333333, \"#9c179e\"], [0.4444444444444444, \"#bd3786\"], [0.5555555555555556, \"#d8576b\"], [0.6666666666666666, \"#ed7953\"], [0.7777777777777778, \"#fb9f3a\"], [0.8888888888888888, \"#fdca26\"], [1.0, \"#f0f921\"]], \"type\": \"histogram2dcontour\"}], \"mesh3d\": [{\"colorbar\": {\"outlinewidth\": 0, \"ticks\": \"\"}, \"type\": \"mesh3d\"}], \"parcoords\": [{\"line\": {\"colorbar\": {\"outlinewidth\": 0, \"ticks\": \"\"}}, \"type\": \"parcoords\"}], \"pie\": [{\"automargin\": true, \"type\": \"pie\"}], \"scatter\": [{\"marker\": {\"colorbar\": {\"outlinewidth\": 0, \"ticks\": \"\"}}, \"type\": \"scatter\"}], \"scatter3d\": [{\"line\": {\"colorbar\": {\"outlinewidth\": 0, \"ticks\": \"\"}}, \"marker\": {\"colorbar\": {\"outlinewidth\": 0, \"ticks\": \"\"}}, \"type\": \"scatter3d\"}], \"scattercarpet\": [{\"marker\": {\"colorbar\": {\"outlinewidth\": 0, \"ticks\": \"\"}}, \"type\": \"scattercarpet\"}], \"scattergeo\": [{\"marker\": {\"colorbar\": {\"outlinewidth\": 0, \"ticks\": \"\"}}, \"type\": \"scattergeo\"}], \"scattergl\": [{\"marker\": {\"colorbar\": {\"outlinewidth\": 0, \"ticks\": \"\"}}, \"type\": \"scattergl\"}], \"scattermapbox\": [{\"marker\": {\"colorbar\": {\"outlinewidth\": 0, \"ticks\": \"\"}}, \"type\": \"scattermapbox\"}], \"scatterpolar\": [{\"marker\": {\"colorbar\": {\"outlinewidth\": 0, \"ticks\": \"\"}}, \"type\": \"scatterpolar\"}], \"scatterpolargl\": [{\"marker\": {\"colorbar\": {\"outlinewidth\": 0, \"ticks\": \"\"}}, \"type\": \"scatterpolargl\"}], \"scatterternary\": [{\"marker\": {\"colorbar\": {\"outlinewidth\": 0, \"ticks\": \"\"}}, \"type\": \"scatterternary\"}], \"surface\": [{\"colorbar\": {\"outlinewidth\": 0, \"ticks\": \"\"}, \"colorscale\": [[0.0, \"#0d0887\"], [0.1111111111111111, \"#46039f\"], [0.2222222222222222, \"#7201a8\"], [0.3333333333333333, \"#9c179e\"], [0.4444444444444444, \"#bd3786\"], [0.5555555555555556, \"#d8576b\"], [0.6666666666666666, \"#ed7953\"], [0.7777777777777778, \"#fb9f3a\"], [0.8888888888888888, \"#fdca26\"], [1.0, \"#f0f921\"]], \"type\": \"surface\"}], \"table\": [{\"cells\": {\"fill\": {\"color\": \"#EBF0F8\"}, \"line\": {\"color\": \"white\"}}, \"header\": {\"fill\": {\"color\": \"#C8D4E3\"}, \"line\": {\"color\": \"white\"}}, \"type\": \"table\"}]}, \"layout\": {\"annotationdefaults\": {\"arrowcolor\": \"#2a3f5f\", \"arrowhead\": 0, \"arrowwidth\": 1}, \"autotypenumbers\": \"strict\", \"coloraxis\": {\"colorbar\": {\"outlinewidth\": 0, \"ticks\": \"\"}}, \"colorscale\": {\"diverging\": [[0, \"#8e0152\"], [0.1, \"#c51b7d\"], [0.2, \"#de77ae\"], [0.3, \"#f1b6da\"], [0.4, \"#fde0ef\"], [0.5, \"#f7f7f7\"], [0.6, \"#e6f5d0\"], [0.7, \"#b8e186\"], [0.8, \"#7fbc41\"], [0.9, \"#4d9221\"], [1, \"#276419\"]], \"sequential\": [[0.0, \"#0d0887\"], [0.1111111111111111, \"#46039f\"], [0.2222222222222222, \"#7201a8\"], [0.3333333333333333, \"#9c179e\"], [0.4444444444444444, \"#bd3786\"], [0.5555555555555556, \"#d8576b\"], [0.6666666666666666, \"#ed7953\"], [0.7777777777777778, \"#fb9f3a\"], [0.8888888888888888, \"#fdca26\"], [1.0, \"#f0f921\"]], \"sequentialminus\": [[0.0, \"#0d0887\"], [0.1111111111111111, \"#46039f\"], [0.2222222222222222, \"#7201a8\"], [0.3333333333333333, \"#9c179e\"], [0.4444444444444444, \"#bd3786\"], [0.5555555555555556, \"#d8576b\"], [0.6666666666666666, \"#ed7953\"], [0.7777777777777778, \"#fb9f3a\"], [0.8888888888888888, \"#fdca26\"], [1.0, \"#f0f921\"]]}, \"colorway\": [\"#636efa\", \"#EF553B\", \"#00cc96\", \"#ab63fa\", \"#FFA15A\", \"#19d3f3\", \"#FF6692\", \"#B6E880\", \"#FF97FF\", \"#FECB52\"], \"font\": {\"color\": \"#2a3f5f\"}, \"geo\": {\"bgcolor\": \"white\", \"lakecolor\": \"white\", \"landcolor\": \"#E5ECF6\", \"showlakes\": true, \"showland\": true, \"subunitcolor\": \"white\"}, \"hoverlabel\": {\"align\": \"left\"}, \"hovermode\": \"closest\", \"mapbox\": {\"style\": \"light\"}, \"paper_bgcolor\": \"white\", \"plot_bgcolor\": \"#E5ECF6\", \"polar\": {\"angularaxis\": {\"gridcolor\": \"white\", \"linecolor\": \"white\", \"ticks\": \"\"}, \"bgcolor\": \"#E5ECF6\", \"radialaxis\": {\"gridcolor\": \"white\", \"linecolor\": \"white\", \"ticks\": \"\"}}, \"scene\": {\"xaxis\": {\"backgroundcolor\": \"#E5ECF6\", \"gridcolor\": \"white\", \"gridwidth\": 2, \"linecolor\": \"white\", \"showbackground\": true, \"ticks\": \"\", \"zerolinecolor\": \"white\"}, \"yaxis\": {\"backgroundcolor\": \"#E5ECF6\", \"gridcolor\": \"white\", \"gridwidth\": 2, \"linecolor\": \"white\", \"showbackground\": true, \"ticks\": \"\", \"zerolinecolor\": \"white\"}, \"zaxis\": {\"backgroundcolor\": \"#E5ECF6\", \"gridcolor\": \"white\", \"gridwidth\": 2, \"linecolor\": \"white\", \"showbackground\": true, \"ticks\": \"\", \"zerolinecolor\": \"white\"}}, \"shapedefaults\": {\"line\": {\"color\": \"#2a3f5f\"}}, \"ternary\": {\"aaxis\": {\"gridcolor\": \"white\", \"linecolor\": \"white\", \"ticks\": \"\"}, \"baxis\": {\"gridcolor\": \"white\", \"linecolor\": \"white\", \"ticks\": \"\"}, \"bgcolor\": \"#E5ECF6\", \"caxis\": {\"gridcolor\": \"white\", \"linecolor\": \"white\", \"ticks\": \"\"}}, \"title\": {\"x\": 0.05}, \"xaxis\": {\"automargin\": true, \"gridcolor\": \"white\", \"linecolor\": \"white\", \"ticks\": \"\", \"title\": {\"standoff\": 15}, \"zerolinecolor\": \"white\", \"zerolinewidth\": 2}, \"yaxis\": {\"automargin\": true, \"gridcolor\": \"white\", \"linecolor\": \"white\", \"ticks\": \"\", \"title\": {\"standoff\": 15}, \"zerolinecolor\": \"white\", \"zerolinewidth\": 2}}}},                        {\"responsive\": true}                    ).then(function(){\n",
       "                            \n",
       "var gd = document.getElementById('5a382731-2820-4513-839e-98d7f6f1b1d1');\n",
       "var x = new MutationObserver(function (mutations, observer) {{\n",
       "        var display = window.getComputedStyle(gd).display;\n",
       "        if (!display || display === 'none') {{\n",
       "            console.log([gd, 'removed!']);\n",
       "            Plotly.purge(gd);\n",
       "            observer.disconnect();\n",
       "        }}\n",
       "}});\n",
       "\n",
       "// Listen for the removal of the full notebook cells\n",
       "var notebookContainer = gd.closest('#notebook-container');\n",
       "if (notebookContainer) {{\n",
       "    x.observe(notebookContainer, {childList: true});\n",
       "}}\n",
       "\n",
       "// Listen for the clearing of the current output cell\n",
       "var outputEl = gd.closest('.output');\n",
       "if (outputEl) {{\n",
       "    x.observe(outputEl, {childList: true});\n",
       "}}\n",
       "\n",
       "                        })                };                });            </script>        </div>"
      ]
     },
     "metadata": {},
     "output_type": "display_data"
    }
   ],
   "source": [
    "fig.update_traces(marker = dict(size=1, \n",
    "                               line= dict(width=0.4, color='DarkSlateGrey')),\n",
    "                 selector= dict(mode='markers'))  # if not set then figure would be very large\n",
    "fig.show();"
   ]
  },
  {
   "cell_type": "markdown",
   "metadata": {},
   "source": [
    "## Hierarchical Clustering"
   ]
  },
  {
   "cell_type": "code",
   "execution_count": 97,
   "metadata": {},
   "outputs": [
    {
     "data": {
      "text/html": [
       "<div>\n",
       "<style scoped>\n",
       "    .dataframe tbody tr th:only-of-type {\n",
       "        vertical-align: middle;\n",
       "    }\n",
       "\n",
       "    .dataframe tbody tr th {\n",
       "        vertical-align: top;\n",
       "    }\n",
       "\n",
       "    .dataframe thead th {\n",
       "        text-align: right;\n",
       "    }\n",
       "</style>\n",
       "<table border=\"1\" class=\"dataframe\">\n",
       "  <thead>\n",
       "    <tr style=\"text-align: right;\">\n",
       "      <th></th>\n",
       "      <th>PC0</th>\n",
       "      <th>PC1</th>\n",
       "      <th>PC2</th>\n",
       "      <th>Cluster id</th>\n",
       "    </tr>\n",
       "    <tr>\n",
       "      <th>Country name</th>\n",
       "      <th></th>\n",
       "      <th></th>\n",
       "      <th></th>\n",
       "      <th></th>\n",
       "    </tr>\n",
       "  </thead>\n",
       "  <tbody>\n",
       "    <tr>\n",
       "      <th>Finland</th>\n",
       "      <td>-3.388624</td>\n",
       "      <td>1.339949</td>\n",
       "      <td>-1.092996</td>\n",
       "      <td>1</td>\n",
       "    </tr>\n",
       "    <tr>\n",
       "      <th>Denmark</th>\n",
       "      <td>-3.379034</td>\n",
       "      <td>1.651316</td>\n",
       "      <td>-0.671262</td>\n",
       "      <td>1</td>\n",
       "    </tr>\n",
       "  </tbody>\n",
       "</table>\n",
       "</div>"
      ],
      "text/plain": [
       "                   PC0       PC1       PC2  Cluster id\n",
       "Country name                                          \n",
       "Finland      -3.388624  1.339949 -1.092996           1\n",
       "Denmark      -3.379034  1.651316 -0.671262           1"
      ]
     },
     "execution_count": 97,
     "metadata": {},
     "output_type": "execute_result"
    }
   ],
   "source": [
    "from scipy.cluster.hierarchy import dendrogram, linkage\n",
    "\n",
    "df_clus = df_pca.copy()\n",
    "df_clus.head(2)"
   ]
  },
  {
   "cell_type": "code",
   "execution_count": 98,
   "metadata": {
    "scrolled": false
   },
   "outputs": [
    {
     "data": {
      "image/png": "[encoded data removed]",
      "text/plain": [
       "<Figure size 1296x720 with 1 Axes>"
      ]
     },
     "metadata": {
      "needs_background": "light"
     },
     "output_type": "display_data"
    }
   ],
   "source": [
    "Z = linkage(df_clus.iloc[:,:-1], method='single')   # Single linkage \n",
    "\n",
    "fig = plt.figure(figsize=(18, 10))\n",
    "fig.subplots_adjust(bottom=0.23)\n",
    "plt.title('Hierarchical Clustering Dendrogram (Single linkage)')\n",
    "plt.xlabel(\"Country name\")\n",
    "dendrogram(Z, labels=df_clus.index, color_threshold=0.7)\n",
    "plt.show()"
   ]
  },
  {
   "cell_type": "code",
   "execution_count": 101,
   "metadata": {},
   "outputs": [
    {
     "data": {
      "image/png": "[encoded data removed]",
      "text/plain": [
       "<Figure size 1296x720 with 1 Axes>"
      ]
     },
     "metadata": {
      "needs_background": "light"
     },
     "output_type": "display_data"
    }
   ],
   "source": [
    "Z = linkage(df_clus.iloc[:,:-1], method='complete')   # Complete linkage \n",
    "\n",
    "fig = plt.figure(figsize=(18, 10))\n",
    "fig.subplots_adjust(bottom=0.23)\n",
    "plt.title('Hierarchical Clustering Dendrogram (Complete linkage)')\n",
    "plt.xlabel(\"Country name\")\n",
    "dendrogram(Z, labels=df_clus.index, color_threshold=5)\n",
    "plt.show()"
   ]
  },
  {
   "cell_type": "markdown",
   "metadata": {},
   "source": [
    "### Further study:\n",
    "\n",
    "- Countries falling in same clusters can be studied together to understand the relation between them in terms of all the features and then future social policies could be made accordingly to improve upon the factors.\n",
    "\n",
    "- Countries with lower scores can study the factors from the cluster contraining countries with higher scores to gain insights about their current policies"
   ]
  },
  {
   "cell_type": "code",
   "execution_count": null,
   "metadata": {},
   "outputs": [],
   "source": []
  }
 ],
 "metadata": {
  "kernelspec": {
   "display_name": "Python 3",
   "language": "python",
   "name": "python3"
  },
  "language_info": {
   "codemirror_mode": {
    "name": "ipython",
    "version": 3
   },
   "file_extension": ".py",
   "mimetype": "text/x-python",
   "name": "python",
   "nbconvert_exporter": "python",
   "pygments_lexer": "ipython3",
   "version": "3.7.6"
  }
 },
 "nbformat": 4,
 "nbformat_minor": 4
}
